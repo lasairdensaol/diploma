{
 "cells": [
  {
   "cell_type": "code",
   "execution_count": 1,
   "metadata": {
    "collapsed": true
   },
   "outputs": [],
   "source": [
    "import networkx as nx\n",
    "import numpy as np\n",
    "import os\n",
    "import codecs\n",
    "import json\n",
    "from collections import defaultdict as dd"
   ]
  },
  {
   "cell_type": "code",
   "execution_count": 2,
   "metadata": {
    "collapsed": true
   },
   "outputs": [],
   "source": [
    "def get_user_network(u_id):\n",
    "    p = r'D:\\University\\Mishenin\\ids\\\\' + str(u_id) + '\\user_network.txt'\n",
    "    with codecs.open(p, 'r','utf-8') as inf:\n",
    "        netw = json.load(inf)\n",
    "    inf.close()\n",
    "\n",
    "    ids = netw.keys()\n",
    "\n",
    "    for k, wrong_id in netw.items():\n",
    "        wr_id = []\n",
    "        for f in wrong_id:\n",
    "            if str(f) not in ids:\n",
    "                wr_id.append(f)\n",
    "        netw[k] = filter(lambda x: x not in wr_id,netw[k])  \n",
    "              \n",
    "    return netw"
   ]
  },
  {
   "cell_type": "code",
   "execution_count": 3,
   "metadata": {
    "collapsed": false
   },
   "outputs": [],
   "source": [
    "#user_id = 1019809\n",
    "user_network = get_user_network(user_id)\n",
    "friends = len(user_network.keys())"
   ]
  },
  {
   "cell_type": "code",
   "execution_count": 4,
   "metadata": {
    "collapsed": true
   },
   "outputs": [],
   "source": [
    "from sklearn.externals import joblib\n",
    "log_regression = joblib.load('D:/test/models/log_regression/log_regression.pkl')\n",
    "#KNN = joblib.load('D:/test/models/KNN/knn.pkl')\n",
    "#RFC = joblib.load('D:/test/models/RFC/rfc.pkl')"
   ]
  },
  {
   "cell_type": "code",
   "execution_count": 5,
   "metadata": {
    "collapsed": true
   },
   "outputs": [],
   "source": [
    "import datetime as dt\n",
    "year = dt.datetime.now().year\n",
    "\n",
    "def map_age(x):\n",
    "    if x is not None:\n",
    "        splited = x.split('.')\n",
    "        if len(splited) == 3:\n",
    "            return year - int(splited[2])\n",
    "    return None"
   ]
  },
  {
   "cell_type": "code",
   "execution_count": 6,
   "metadata": {
    "collapsed": true
   },
   "outputs": [],
   "source": [
    "class my_map(object):\n",
    "\n",
    "    def __init__(self, network):\n",
    "        self.num_of_id = dict(enumerate(network.adj.keys()))\n",
    "        self.id_of_num = dict(zip( network.adj.keys(), range(len(network.adj.keys()))))\n",
    "\n",
    "    def get_id(self, num):\n",
    "        return self.num_of_id[num]\n",
    "    def get_num(self, id):\n",
    "        return self.id_of_num[id]\n",
    "    def ids(self):\n",
    "        return self.id_of_num.keys()\n",
    "    def nums(self):\n",
    "        return self.num_of_id.keys()\n",
    "\n",
    "    def __repr__(self):\n",
    "        return self.num_of_id.__repr__() + \"\\n\\n\" + self.id_of_num.__repr__()\n"
   ]
  },
  {
   "cell_type": "code",
   "execution_count": 7,
   "metadata": {
    "collapsed": true
   },
   "outputs": [],
   "source": [
    "list_of_attr = ['sex', 'city', 'country', 'graduation', 'university', 'school']"
   ]
  },
  {
   "cell_type": "code",
   "execution_count": 8,
   "metadata": {
    "collapsed": true
   },
   "outputs": [],
   "source": [
    "def get_age_from_file(id_us):\n",
    "    #тут считывать значение возраста из файла в директории r'F:\\test\\id' + numb_folder + '\\\\' + str(id_us) + '.txt'\n",
    "    p = r'D:\\University\\Mishenin\\ids\\\\' + str(user_id) + '\\\\' + str(id_us) + '.txt'\n",
    "    with codecs.open(p, 'r','utf-8') as inf:\n",
    "        inf_about_user = json.load(inf)\n",
    "    inf.close()\n",
    "    \n",
    "    if 'bdate' not in inf_about_user:\n",
    "        return None\n",
    "    else:\n",
    "        return map_age(inf_about_user['bdate'])"
   ]
  },
  {
   "cell_type": "code",
   "execution_count": 9,
   "metadata": {
    "collapsed": true
   },
   "outputs": [],
   "source": [
    "def find_w(id_1, id_2, m_fr, n_method):\n",
    "    features = []\n",
    "    features.append(get_feature(id_1, id_2, m_fr))\n",
    "    if n_method == 1:\n",
    "        w = log_regression.predict_proba(features)[0][1]\n",
    "    if n_method == 2:\n",
    "        w =  KNN.predict_proba(features)[0][1]\n",
    "    if n_method == 3:\n",
    "        w = RFC.predict_proba(features)[0][1]\n",
    "    \n",
    "    return w"
   ]
  },
  {
   "cell_type": "code",
   "execution_count": 10,
   "metadata": {
    "collapsed": true
   },
   "outputs": [],
   "source": [
    "def get_feature(id_user1, id_user2, m_fr):\n",
    "    res_feat = []\n",
    "    res_feat = comparing(get_inf_from_file(id_user1), get_inf_from_file(id_user2), m_fr)\n",
    "    return res_feat"
   ]
  },
  {
   "cell_type": "code",
   "execution_count": 11,
   "metadata": {
    "collapsed": true
   },
   "outputs": [],
   "source": [
    "def mutual_friends(m_fr):\n",
    "    if friends <= 0:\n",
    "        return 0\n",
    "    else:\n",
    "        return m_fr / float(friends)"
   ]
  },
  {
   "cell_type": "code",
   "execution_count": 12,
   "metadata": {
    "collapsed": true
   },
   "outputs": [],
   "source": [
    "def comparing(inf1, inf2, m_fr):\n",
    "    res = []\n",
    "    res.append(mutual_friends(m_fr))\n",
    "    for i in range(1, len(list_of_attr) + 1):\n",
    "        res.append(comparing_components(inf1[i], inf2[i]))\n",
    "    res.append(res[5] and res[6])\n",
    "    return res"
   ]
  },
  {
   "cell_type": "code",
   "execution_count": 13,
   "metadata": {
    "collapsed": true
   },
   "outputs": [],
   "source": [
    "def comparing_components(comp_1, comp_2):\n",
    "    if comp_1 == None or comp_2 == None:\n",
    "        return 0\n",
    "    else:\n",
    "        return int(comp_1 == comp_2)"
   ]
  },
  {
   "cell_type": "code",
   "execution_count": 14,
   "metadata": {
    "collapsed": true
   },
   "outputs": [],
   "source": [
    "def get_inf_from_file(id_us):\n",
    "    p = r'D:\\University\\Mishenin\\ids\\\\' + str(user_id) + '\\\\' + str(id_us) + '.txt'\n",
    "    with codecs.open(p, 'r','utf-8') as inf:\n",
    "        inf_about_user = json.load(inf)\n",
    "    inf.close()\n",
    "    inf_about_user = dd(lambda: None, inf_about_user)\n",
    "    res_inf = []\n",
    "    res_inf.append(inf_about_user['id'])\n",
    "    res_inf.append(inf_about_user['sex'])\n",
    "    try:\n",
    "        res_inf.append(inf_about_user['city']['id'])\n",
    "    except:\n",
    "        res_inf.append(None)\n",
    "    try:\n",
    "        res_inf.append(inf_about_user['country']['id'])\n",
    "    except:\n",
    "        res_inf.append(None)\n",
    "    res_inf.append(inf_about_user['graduation'])\n",
    "    res_inf.append(inf_about_user['university'])\n",
    "    try:\n",
    "        res_inf.append(int(inf_about_user['schools'][0]['id']))\n",
    "    except:\n",
    "        res_inf.append(None)\n",
    "    #print res_inf\n",
    "    return res_inf"
   ]
  },
  {
   "cell_type": "code",
   "execution_count": 15,
   "metadata": {
    "collapsed": true
   },
   "outputs": [],
   "source": [
    "def init_graph(u_network):\n",
    "    graph = nx.Graph()\n",
    "\n",
    "    all_friend = u_network.keys()\n",
    "    \n",
    "    for k, v in u_network.items():\n",
    "        for t in v:\n",
    "            e = 0\n",
    "            for el in u_network[str(t)]:\n",
    "                if el in v:\n",
    "                    e += 1\n",
    "            w = find_w(k, t, e, 1)\n",
    "            graph.add_edge(int(k),int(t), weight = w)\n",
    "            \n",
    "    #for u in all_friend:\n",
    "    #    \n",
    "    #    for v in all_friend:\n",
    "    #        if v != u:\n",
    "    #            #матрица смежности\n",
    "    #            #if v in u_network[u]:\n",
    "    #            #    w = 1\n",
    "    #            #else:\n",
    "    #            #    w = 0\n",
    "    #            \n",
    "    #            #машинное обучение\n",
    "    #            if v in u_network[u]:\n",
    "    #                print mi\n",
    "    #                e = 0\n",
    "    #                for el in u_network[u]:\n",
    "    #                    if el in u_network[v]:\n",
    "    #                        e += 1\n",
    "    #                w = find_w(u, v, e, 1)\n",
    "    #                graph.add_edge(int(u),int(v), weight = w)\n",
    "                \n",
    "\n",
    "    return graph"
   ]
  },
  {
   "cell_type": "code",
   "execution_count": 88,
   "metadata": {
    "collapsed": true
   },
   "outputs": [],
   "source": [
    "def get_class(age, k):\n",
    "    if k == 20:\n",
    "        return age / 5\n",
    "    if k == 100:\n",
    "        return age\n",
    "    print 'Error_in_Get_class'"
   ]
  },
  {
   "cell_type": "code",
   "execution_count": 17,
   "metadata": {
    "collapsed": true
   },
   "outputs": [],
   "source": [
    "def power(a, p):\n",
    "    if p < 0:\n",
    "        return np.linalg.inv(a) ** abs(p)\n",
    "    elif p == 0:\n",
    "        return np.eye(a.shape[0])\n",
    "    else:\n",
    "        return a ** p"
   ]
  },
  {
   "cell_type": "code",
   "execution_count": 19,
   "metadata": {
    "collapsed": true
   },
   "outputs": [],
   "source": [
    "def find_A(id_num, us_network): #матрица W\n",
    "    n = len(id_num.nums())\n",
    "    A = np.zeros([n, n])\n",
    "    \n",
    "    for k, v in us_network.adj.items():\n",
    "        i = id_num.get_num(k)\n",
    "        for h, w in v.items():\n",
    "            j = id_num.get_num(h)\n",
    "            A[i, j] = A[j, i] = w['weight']\n",
    "    \n",
    "    return A"
   ]
  },
  {
   "cell_type": "code",
   "execution_count": 90,
   "metadata": {
    "collapsed": true
   },
   "outputs": [],
   "source": [
    "def find_classes(id_num, k, m):\n",
    "    classes = {}\n",
    "    i = 0\n",
    "    check = []\n",
    "    for _id in id_num.ids():\n",
    "        # получение возраста\n",
    "        age = get_age_from_file(_id) #функция в Create sample for machine learning\n",
    "        if age:\n",
    "            i += 1\n",
    "            \n",
    "            if i % 10 == 0:\n",
    "                check.append(_id)\n",
    "                classes[id_num.get_num(_id)] = -1\n",
    "                continue\n",
    "                \n",
    "            if i % m == 0:\n",
    "                classes[id_num.get_num(_id)] = -1\n",
    "                continue\n",
    "                \n",
    "            _class = get_class(age, k)\n",
    "            if _class > k - 1:\n",
    "                _class = -1\n",
    "        else:\n",
    "            _class = -1\n",
    "\n",
    "        classes[id_num.get_num(_id)] = _class\n",
    "    return (classes, check)\n",
    "\n",
    "def get_Y(C, k):\n",
    "    n = len(C)\n",
    "    Y = np.zeros((n,k))\n",
    "\n",
    "    for key, value in C.items():\n",
    "        if value > -1:\n",
    "            Y[key][value] = 1\n",
    "\n",
    "    return Y\n",
    "\n",
    "\n",
    "def classification(graph, sigma = 1, alpha = 0.75, k = 100):\n",
    "    res = []\n",
    "    mu =  2 / alpha - 2\n",
    "    id_num = my_map(graph)\n",
    "    A = find_A(id_num, graph)\n",
    "    C, check = find_classes(id_num, k, np.random.randint(5, 15))\n",
    "    for j in range(0,5):        \n",
    "        C, check = find_classes(id_num, k, np.random.randint(5, 15))\n",
    "        Y = get_Y(C, k)\n",
    "        D = np.diag(np.sum(A, axis = 1))\n",
    "    \n",
    "        I = np.eye(len(A))\n",
    "    \n",
    "        F = np.zeros(Y.shape)\n",
    "    \n",
    "    #TMP_D = power(D, (-1) * sigma)\n",
    "    #TMP_1 = alpha * np.dot(A, TMP_D)\n",
    "    #TMP_2 = (1 - alpha) * np.linalg.inv(I - TMP_1)\n",
    "    #\n",
    "    #for x in range(k):\n",
    "    #    F[:, x] = np.dot(TMP_2, Y[:, x])\n",
    "    \n",
    "    #общая формула\n",
    "        TMP_D_1 = power(D, (-1) * sigma)\n",
    "        TMP_D_2 = power(D, sigma - 1)\n",
    "        TMP_1 = np.dot(TMP_D_1, A)\n",
    "        TMP_2 = np.dot(TMP_1, TMP_D_2)\n",
    "        TMP_3 = np.linalg.inv(I - alpha * TMP_2)\n",
    "        for x in range(k):\n",
    "            F[:, x] = (1 - alpha) * np.dot(TMP_3, Y[:, x])\n",
    "    \n",
    "        ANSWER = np.argmax(F, axis = 1)\n",
    "    \n",
    "        L = id_num.id_of_num.copy()\n",
    "        for key,value in L.items():\n",
    "            L[key] = str(ANSWER[value])\n",
    "\n",
    "        res.append((L, check))\n",
    "    return res"
   ]
  },
  {
   "cell_type": "code",
   "execution_count": 94,
   "metadata": {
    "collapsed": false,
    "scrolled": false
   },
   "outputs": [],
   "source": [
    "id_users = os.listdir(r'D:\\University\\Mishenin\\ids\\\\')\n",
    "#id_users = [1007070, 1186070]\n",
    "for x in id_users:\n",
    "    user_id = int(x)\n",
    "    user_network = get_user_network(user_id)\n",
    "    friends = len(user_network.keys())\n",
    "    s_graph = nx.Graph()\n",
    "    s_graph = init_graph(user_network)\n",
    "    ans = classification(s_graph)\n",
    "    ans = list(ans)\n",
    "    check = ans[0][1]\n",
    "    answ = []\n",
    "    for i in ans:\n",
    "        answ.append(i[0])\n",
    "    \n",
    "    err = statict(answ, check)\n",
    "    save_2(err)\n",
    "    save_user(answ)"
   ]
  },
  {
   "cell_type": "code",
   "execution_count": 43,
   "metadata": {
    "collapsed": false
   },
   "outputs": [
    {
     "data": {
      "text/plain": [
       "[0, 1, 2, 3, 4]"
      ]
     },
     "execution_count": 43,
     "metadata": {},
     "output_type": "execute_result"
    }
   ],
   "source": [
    "def mi():\n",
    "    for i in range(5):\n",
    "        yield (i, 2)\n",
    "\n",
    "t = mi()\n",
    "t = list(t)\n",
    "a = []\n",
    "for i in t:\n",
    "    a.append(i[0])\n",
    "    \n",
    "a"
   ]
  },
  {
   "cell_type": "code",
   "execution_count": 20,
   "metadata": {
    "collapsed": false
   },
   "outputs": [],
   "source": [
    "s_graph = nx.Graph()\n",
    "s_graph = init_graph(user_network)"
   ]
  },
  {
   "cell_type": "code",
   "execution_count": 21,
   "metadata": {
    "collapsed": false
   },
   "outputs": [],
   "source": [
    "ans, check, W, id_num = classification(s_graph)"
   ]
  },
  {
   "cell_type": "code",
   "execution_count": 49,
   "metadata": {
    "collapsed": false
   },
   "outputs": [],
   "source": [
    "def statict(answer, ch):\n",
    "    stat_of_age = []\n",
    "    for i in ch:\n",
    "        s = 0\n",
    "        for j in range(len(answer)):\n",
    "            s += int(answer[j][i])\n",
    "        s = s/float(len(answer))\n",
    "        stat_of_age.append(abs(int(s) - int(get_class(get_age_from_file(i), 100))))\n",
    "    summ = 0\n",
    "    for i in range(len(stat_of_age)):\n",
    "        summ = stat_of_age[i]**2 + summ\n",
    "        \n",
    "    save(stat_of_age)\n",
    "\n",
    "    return (summ/float(len(stat_of_age)))**0.5"
   ]
  },
  {
   "cell_type": "code",
   "execution_count": 48,
   "metadata": {
    "collapsed": true
   },
   "outputs": [],
   "source": [
    "def save(stat_of_age):\n",
    "    pat = r'D:\\University\\Mishenin\\err\\\\' + str(user_id) + '_friends.txt'\n",
    "    with open(pat, 'w') as ouf:\n",
    "        for i in range(len(stat_of_age)):\n",
    "            ouf.write(\"%f\\n\"%(stat_of_age[i]))"
   ]
  },
  {
   "cell_type": "code",
   "execution_count": 51,
   "metadata": {
    "collapsed": true
   },
   "outputs": [],
   "source": [
    "def save_2(error):\n",
    "    pat = r'D:\\University\\Mishenin\\err_2.txt'\n",
    "    with open(pat, 'a') as ouf:\n",
    "        ouf.write(\"%f\\n\"%(error))"
   ]
  },
  {
   "cell_type": "code",
   "execution_count": 44,
   "metadata": {
    "collapsed": true
   },
   "outputs": [],
   "source": [
    "def save_user(answer):\n",
    "    pat = r'D:\\University\\Mishenin\\err_user.csv'\n",
    "    age = 0\n",
    "    s = 0\n",
    "    for j in range(len(answer)):\n",
    "        s += int(answer[j][user_id])\n",
    "    s = s/float(len(answer))\n",
    "    age = (abs(int(s) - int(get_class(get_age_from_file(user_id), 100))))\n",
    "    with open(pat, 'a') as ouf:\n",
    "        ouf.write(\"%d\\t%f\\n\"%(user_id, age))"
   ]
  },
  {
   "cell_type": "code",
   "execution_count": 24,
   "metadata": {
    "collapsed": false
   },
   "outputs": [
    {
     "name": "stdout",
     "output_type": "stream",
     "text": [
      "fl\n",
      "28\n",
      "29\n",
      "_________\n",
      "fl\n",
      "28\n",
      "32\n",
      "_________\n",
      "tr\n",
      "28\n",
      "28\n",
      "_________\n",
      "tr\n",
      "28\n",
      "28\n",
      "_________\n",
      "fl\n",
      "28\n",
      "27\n",
      "_________\n",
      "tr\n",
      "28\n",
      "28\n",
      "_________\n",
      "fl\n",
      "28\n",
      "25\n",
      "_________\n",
      "fl\n",
      "28\n",
      "29\n",
      "_________\n",
      "fl\n",
      "28\n",
      "27\n",
      "_________\n",
      "fl\n",
      "28\n",
      "26\n",
      "_________\n",
      "fl\n",
      "28\n",
      "29\n",
      "_________\n",
      "fl\n",
      "28\n",
      "27\n",
      "_________\n",
      "tr\n",
      "28\n",
      "28\n",
      "_________\n",
      "tr\n",
      "28\n",
      "28\n",
      "_________\n",
      "tr\n",
      "28\n",
      "28\n",
      "_________\n",
      "fl\n",
      "28\n",
      "20\n",
      "_________\n",
      "fl\n",
      "28\n",
      "26\n",
      "_________\n",
      "fl\n",
      "28\n",
      "36\n",
      "_________\n",
      "fl\n",
      "28\n",
      "29\n",
      "_________\n",
      "fl\n",
      "28\n",
      "24\n",
      "_________\n",
      "fl\n",
      "28\n",
      "30\n",
      "_________\n",
      "fl\n",
      "28\n",
      "31\n",
      "_________\n",
      "fl\n",
      "28\n",
      "32\n",
      "_________\n",
      "tr\n",
      "28\n",
      "28\n",
      "_________\n",
      "7\n",
      "17\n",
      "24\n"
     ]
    }
   ],
   "source": [
    "tr = 0\n",
    "fl = 0\n",
    "for i in check:\n",
    "    if str(ans[i]) == str(get_class(get_age_from_file(i), 100)):\n",
    "        tr += 1\n",
    "        print 'tr'\n",
    "        print ans[i]\n",
    "        print get_age_from_file(i)\n",
    "        print '_________'\n",
    "    else:\n",
    "        fl += 1\n",
    "        print 'fl'\n",
    "        print ans[i]\n",
    "        print get_age_from_file(i)\n",
    "        print '_________'\n",
    "print tr\n",
    "print fl\n",
    "print len(check)\n"
   ]
  },
  {
   "cell_type": "code",
   "execution_count": 23,
   "metadata": {
    "collapsed": false
   },
   "outputs": [
    {
     "data": {
      "text/plain": [
       "[38402157,\n",
       " 2846916,\n",
       " 11208964,\n",
       " 33243488,\n",
       " 15636903,\n",
       " 85426668,\n",
       " 31736387,\n",
       " 12243607,\n",
       " 3896017,\n",
       " 160828173,\n",
       " 15590226,\n",
       " 30006176,\n",
       " 7242769,\n",
       " 88624216,\n",
       " 13743985,\n",
       " 172778362,\n",
       " 7404922,\n",
       " 89677274,\n",
       " 22666776,\n",
       " 40457899,\n",
       " 10403598,\n",
       " 2850638,\n",
       " 102315896,\n",
       " 135315374]"
      ]
     },
     "execution_count": 23,
     "metadata": {},
     "output_type": "execute_result"
    }
   ],
   "source": [
    "check"
   ]
  },
  {
   "cell_type": "code",
   "execution_count": null,
   "metadata": {
    "collapsed": true
   },
   "outputs": [],
   "source": []
  }
 ],
 "metadata": {
  "kernelspec": {
   "display_name": "Python 2",
   "language": "python",
   "name": "python2"
  },
  "language_info": {
   "codemirror_mode": {
    "name": "ipython",
    "version": 2
   },
   "file_extension": ".py",
   "mimetype": "text/x-python",
   "name": "python",
   "nbconvert_exporter": "python",
   "pygments_lexer": "ipython2",
   "version": "2.7.11"
  }
 },
 "nbformat": 4,
 "nbformat_minor": 0
}
