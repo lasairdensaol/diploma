{
 "cells": [
  {
   "cell_type": "code",
   "execution_count": null,
   "metadata": {
    "collapsed": true
   },
   "outputs": [],
   "source": [
    "import datetime as dt\n",
    "import json\n",
    "import codecs\n",
    "import os\n",
    "import numpy as np\n",
    "import random"
   ]
  },
  {
   "cell_type": "code",
   "execution_count": null,
   "metadata": {
    "collapsed": true
   },
   "outputs": [],
   "source": [
    "year = dt.datetime.now().year\n",
    "\n",
    "def map_age(x):\n",
    "    if x is not None:\n",
    "        splited = x.split('.')\n",
    "        if len(splited) == 3:\n",
    "            return year - int(splited[2])\n",
    "    return None"
   ]
  },
  {
   "cell_type": "code",
   "execution_count": null,
   "metadata": {
    "collapsed": true
   },
   "outputs": [],
   "source": [
    "#g_path_eq = r'F:\\test\\eq_age.csv'\n",
    "#g_path_dif = r'F:\\test\\diff_age.csv'\n",
    "\n",
    "id_1 = os.listdir(r'D:\\test\\id1\\\\')\n",
    "id_2 = os.listdir(r'D:\\test\\id2\\\\')\n",
    "id_3 = os.listdir(r'D:\\test\\id3\\\\')\n",
    "id_4 = os.listdir(r'D:\\test\\id4\\\\')\n",
    "net = os.listdir(r'D:\\test\\networks\\\\')\n",
    "\n",
    "#user_id = 2020916\n",
    "#k_net = len(net)"
   ]
  },
  {
   "cell_type": "code",
   "execution_count": null,
   "metadata": {
    "collapsed": true
   },
   "outputs": [],
   "source": [
    "def get_user_network(i_netw):\n",
    "    p = r'F:\\test\\networks\\\\' + net[i_netw]\n",
    "    with codecs.open(p, 'r','utf-8') as inf:\n",
    "        netw = json.load(inf)\n",
    "    inf.close()\n",
    "    \n",
    "    ids = netw.keys()\n",
    "\n",
    "    for k, wrong_id in netw.items():\n",
    "        for f in wrong_id:\n",
    "            if str(f) not in ids:\n",
    "                netw[k].remove(f)\n",
    "                \n",
    "    return netw            "
   ]
  },
  {
   "cell_type": "code",
   "execution_count": null,
   "metadata": {
    "collapsed": true
   },
   "outputs": [],
   "source": [
    "def get_age(id_us_int):\n",
    "    id_us = str(id_us_int) + '.txt'\n",
    "    if id_us in id_1:\n",
    "        age = get_age_from_file('1', id_us)\n",
    "    if id_us in id_2:\n",
    "        age = get_age_from_file('2', id_us)\n",
    "    if id_us in id_3:\n",
    "        age = get_age_from_file('3', id_us)\n",
    "    if id_us in id_4:\n",
    "        age = get_age_from_file('4', id_us)\n",
    "    return age"
   ]
  },
  {
   "cell_type": "code",
   "execution_count": null,
   "metadata": {
    "collapsed": false
   },
   "outputs": [],
   "source": [
    "def get_age_from_file(numb_folder, id_us):\n",
    "    #тут считывать значение возраста из файла в директории r'F:\\test\\id' + numb_folder + '\\\\' + str(id_us) + '.txt'\n",
    "    p = r'F:\\test\\id' + numb_folder + '\\\\' + id_us\n",
    "    with codecs.open(p, 'r','utf-8') as inf:\n",
    "        inf_about_user = json.load(inf)\n",
    "    inf.close()\n",
    "    \n",
    "    if 'bdate' not in inf_about_user:\n",
    "        return None\n",
    "    else:\n",
    "        return map_age(inf_about_user['bdate'])\n",
    "        "
   ]
  },
  {
   "cell_type": "code",
   "execution_count": null,
   "metadata": {
    "collapsed": true
   },
   "outputs": [],
   "source": [
    "def get_couple_users(id_us_1, id_us_2):\n",
    "    if id_us_1 >= id_us_2:\n",
    "        return (str(id_us_2), str(id_us_1))\n",
    "    else:\n",
    "        return (str(id_us_1), str(id_us_2))"
   ]
  },
  {
   "cell_type": "code",
   "execution_count": null,
   "metadata": {
    "collapsed": false
   },
   "outputs": [],
   "source": [
    "#data_eq = []\n",
    "#data_dif = []\n",
    "flag_eq = True\n",
    "flag_dif = True\n",
    "\n",
    "while flag_eq or flag_dif:\n",
    "    i_network = random.randint(0, k_net - 1)\n",
    "    rand_network = get_user_network(i_network)\n",
    "    k_us_1 = random.randint(0, len(rand_network) - 1)\n",
    "    id_user_1 = rand_network.keys()[k_us_1]\n",
    "    if len(rand_network[id_user_1]) == 0:\n",
    "        continue\n",
    "    k_us_2 = random.randint(0, len(rand_network[id_user_1]) - 1)\n",
    "    id_user_2 = rand_network[id_user_1][k_us_2]\n",
    "    age_user_1 = get_age(id_user_1)\n",
    "    age_user_2 = get_age(id_user_2)\n",
    "    if age_user_1 == None or age_user_2 == None:\n",
    "        continue\n",
    "    couple_users = get_couple_users(id_user_1, id_user_2)\n",
    "    if age_user_1 != age_user_2:\n",
    "        if len(data_dif) == 1500:\n",
    "            flag_dif = False\n",
    "            continue\n",
    "        if couple_users in data_dif:\n",
    "            continue\n",
    "        data_dif.append(couple_users)\n",
    "    else:\n",
    "        if len(data_eq) == 1500:\n",
    "            flag_eq = False\n",
    "            continue\n",
    "        if couple_users in data_eq:\n",
    "            continue\n",
    "        data_eq.append(couple_users)\n",
    "    if (len(data_dif) + len(data_eq)) % 100 == 0:\n",
    "        print len(data_dif) + len(data_eq) / 100\n",
    "    #get_couple_of_friends(id_user_1, id_user_2)\n",
    "    \n",
    "with open(g_path_eq, 'w') as ouf:\n",
    "    ouf.write(\"id_1\\tid_2\\n\")\n",
    "    for x, y in data_eq:\n",
    "        ouf.write(\"%d\\t%s\\n\"%(x, y))\n",
    "        \n",
    "with open(g_path_dif, 'w') as ouf:\n",
    "    ouf.write(\"id_1\\tid_2\\n\")\n",
    "    for x, y in data_dif:\n",
    "        ouf.write(\"%d\\t%s\\n\"%(x, y))"
   ]
  },
  {
   "cell_type": "code",
   "execution_count": null,
   "metadata": {
    "collapsed": false
   },
   "outputs": [],
   "source": [
    "with open(g_path_eq, 'w') as ouf:\n",
    "    ouf.write(\"id_1\\tid_2\\n\")\n",
    "    for x, y in data_eq:\n",
    "        ouf.write(str(x) + '\\t' + str(y) + '\\n')\n",
    "        #ouf.write(\"%d\\t%s\\n\"%(str(x), str(y)))\n",
    "        \n",
    "with open(g_path_dif, 'w') as ouf:\n",
    "    ouf.write(\"id_1\\tid_2\\n\")\n",
    "    for x, y in data_dif:\n",
    "        ouf.write(str(x) + '\\t' + str(y) + '\\n')\n",
    "        #ouf.write(\"%d\\t%s\\n\"%(str(x), str(y)))"
   ]
  },
  {
   "cell_type": "code",
   "execution_count": null,
   "metadata": {
    "collapsed": false
   },
   "outputs": [],
   "source": [
    "data_eq = []\n",
    "data_dif = []\n",
    "g_path_eq = r'D:\\test\\eq_age.csv'\n",
    "g_path_dif = r'D:\\test\\diff_age.csv'\n",
    "with codecs.open(g_path_eq, 'r', encoding=\"utf8\") as inf:\n",
    "    for line in inf:\n",
    "        line = line.split('\\t')\n",
    "        data_eq.append((line[0], line[1].strip()))\n",
    "\n",
    "data_eq.remove(('id_1', 'id_2'))\n",
    "    \n",
    "with codecs.open(g_path_dif, 'r', encoding=\"utf8\") as inf:\n",
    "    for line in inf:\n",
    "        line = line.split('\\t')\n",
    "        data_dif.append((line[0], line[1].strip()))\n",
    "\n",
    "data_dif.remove(('id_1', 'id_2'))    \n"
   ]
  },
  {
   "cell_type": "code",
   "execution_count": null,
   "metadata": {
    "collapsed": false
   },
   "outputs": [],
   "source": [
    "import vk_api\n",
    "api = vk_api.VkAPI()"
   ]
  },
  {
   "cell_type": "code",
   "execution_count": null,
   "metadata": {
    "collapsed": true
   },
   "outputs": [],
   "source": [
    "list_of_attr = ['sex', 'city', 'country', 'graduation', 'university', 'school']\n",
    "#6 - 'home_town'"
   ]
  },
  {
   "cell_type": "code",
   "execution_count": null,
   "metadata": {
    "collapsed": true
   },
   "outputs": [],
   "source": [
    "from collections import defaultdict as dd"
   ]
  },
  {
   "cell_type": "code",
   "execution_count": null,
   "metadata": {
    "collapsed": true
   },
   "outputs": [],
   "source": [
    "def get_inf(id_us_int):\n",
    "    id_us = str(id_us_int) + '.txt'\n",
    "    if id_us in id_1:\n",
    "        inf = get_inf_from_file('1', id_us)\n",
    "    if id_us in id_2:\n",
    "        inf = get_inf_from_file('2', id_us)\n",
    "    if id_us in id_3:\n",
    "        inf = get_inf_from_file('3', id_us)\n",
    "    if id_us in id_4:\n",
    "        inf = get_inf_from_file('4', id_us)\n",
    "    return inf"
   ]
  },
  {
   "cell_type": "code",
   "execution_count": null,
   "metadata": {
    "collapsed": true
   },
   "outputs": [],
   "source": [
    "def get_inf_from_file(numb_folder, id_us):\n",
    "    p = r'D:\\test\\id' + numb_folder + '\\\\' + id_us\n",
    "    with codecs.open(p, 'r','utf-8') as inf:\n",
    "        inf_about_user = json.load(inf)\n",
    "    inf.close()\n",
    "    inf_about_user = dd(lambda: None, inf_about_user)\n",
    "    res_inf = []\n",
    "    res_inf.append(inf_about_user['id'])\n",
    "    res_inf.append(inf_about_user['sex'])\n",
    "    try:\n",
    "        res_inf.append(inf_about_user['city']['id'])\n",
    "    except:\n",
    "        res_inf.append(None)\n",
    "    try:\n",
    "        res_inf.append(inf_about_user['country']['id'])\n",
    "    except:\n",
    "        res_inf.append(None)\n",
    "    res_inf.append(inf_about_user['graduation'])\n",
    "    res_inf.append(inf_about_user['university'])\n",
    "    #res_inf.append(inf_about_user['home_town'])\n",
    "    try:\n",
    "        res_inf.append(int(inf_about_user['schools'][0]['id']))\n",
    "    except:\n",
    "        res_inf.append(None)\n",
    "    #print res_inf\n",
    "    return res_inf"
   ]
  },
  {
   "cell_type": "code",
   "execution_count": null,
   "metadata": {
    "collapsed": false
   },
   "outputs": [],
   "source": [
    "#def mutual_friends(id_user1, id_user2):\n",
    "#    try:\n",
    "#        mut_friends = api.get_mutual_friends(id_user1, id_user2)\n",
    "#        return len(mut_friends)\n",
    "#    except:\n",
    "#        return 0\n",
    "    \n",
    "#def mutual_friends(id_user1, id_user2):\n",
    "#    try:\n",
    "#        print 'mi'\n",
    "#        mut_friends = api.get_mutual_friends(id_user1, id_user2)\n",
    "#        print len(mut_friends)\n",
    "#        if len(mut_friends) >= 5:\n",
    "#            return 1\n",
    "#        else:\n",
    "#            return 0\n",
    "#    except:\n",
    "#        return 0\n",
    "    \n",
    "def mutual_friends(id_user1, id_user2, ind):\n",
    "    a = dataframe['mut_friends'][ind]\n",
    "    if a >= 5:\n",
    "        return 1\n",
    "    else:\n",
    "        return 0"
   ]
  },
  {
   "cell_type": "code",
   "execution_count": null,
   "metadata": {
    "collapsed": true
   },
   "outputs": [],
   "source": [
    "def comparing_components(comp_1, comp_2):\n",
    "    if comp_1 == None or comp_2 == None:\n",
    "        return 0\n",
    "    else:\n",
    "        return int(comp_1 == comp_2)"
   ]
  },
  {
   "cell_type": "code",
   "execution_count": null,
   "metadata": {
    "collapsed": true
   },
   "outputs": [],
   "source": [
    "def comparing_age(id_us_1, id_us_2):\n",
    "    age_1 = get_age(id_us_1)\n",
    "    age_2 = get_age(id_us_2)\n",
    "    if abs(age_1 - age_2) < 5:\n",
    "        return 1\n",
    "    else:\n",
    "        return 0"
   ]
  },
  {
   "cell_type": "code",
   "execution_count": null,
   "metadata": {
    "collapsed": true
   },
   "outputs": [],
   "source": [
    "#def comparing(inf1, inf2):\n",
    "#    res = []\n",
    "#    res.append(mutual_friends(inf1[0], inf2[0]))\n",
    "#    for i in range(1, len(list_of_attr) + 1):\n",
    "#        res.append(comparing_components(inf1[i], inf2[i]))\n",
    "#    res.append(res[5] and res[6])\n",
    "#    #res.append(int(inf1[5] == inf2[5]) and int(inf1[6] == inf2[6]))\n",
    "#    return res\n",
    "\n",
    "def comparing(inf1, inf2, ind):\n",
    "    res = []\n",
    "    res.append(int(inf1[0]))\n",
    "    res.append(int(inf2[0]))\n",
    "    res.append(mutual_friends(inf1[0], inf2[0], ind))\n",
    "    for i in range(1, len(list_of_attr) + 1):\n",
    "        res.append(comparing_components(inf1[i], inf2[i]))\n",
    "    res.append(res[5] and res[6])\n",
    "    #res.append(int(inf1[5] == inf2[5]) and int(inf1[6] == inf2[6]))\n",
    "    res.append(comparing_age(inf1[0], inf2[0]))\n",
    "    return res"
   ]
  },
  {
   "cell_type": "code",
   "execution_count": null,
   "metadata": {
    "collapsed": true
   },
   "outputs": [],
   "source": [
    "#def get_feature(id_user1, id_user2, value):\n",
    "def get_feature(id_user1, id_user2, ind):\n",
    "    res_feat = []\n",
    "    res_feat = comparing(get_inf(id_user1), get_inf(id_user2), ind)\n",
    "    #res_feat.append(value)\n",
    "    return res_feat"
   ]
  },
  {
   "cell_type": "code",
   "execution_count": null,
   "metadata": {
    "collapsed": false
   },
   "outputs": [],
   "source": [
    "features = []\n",
    "i = 1\n",
    "features.append(get_feature(data_eq[i][0], data_eq[i][1], 2*i))"
   ]
  },
  {
   "cell_type": "code",
   "execution_count": null,
   "metadata": {
    "collapsed": false
   },
   "outputs": [],
   "source": [
    "dataframe['mut_friends'][5]"
   ]
  },
  {
   "cell_type": "code",
   "execution_count": null,
   "metadata": {
    "collapsed": false
   },
   "outputs": [],
   "source": [
    "features = []\n",
    "for i in range(len(data_eq)):\n",
    "    features.append(get_feature(data_eq[i][0], data_eq[i][1], 2*i))\n",
    "    features.append(get_feature(data_dif[i][0], data_dif[i][1], 2*i + 1))\n",
    "    #features.append(get_feature(data_eq[i][0], data_eq[i][1], 1))\n",
    "    #features.append(get_feature(data_dif[i][0], data_dif[i][1], 0))\n",
    "    if (i + 1) % 150 == 0:\n",
    "        print (i+1) / float(len(data_eq)) * 100\n",
    "    \n",
    "with open(r'D:\\test\\training_features_2.csv', 'w') as ouf:\n",
    "    ouf.write(\"id_1\\tid_2\\tmut_friends\\tsex\\tcity\\tcountry\\tgraduation\\tuniversity\\tschool\\tschool+uni\\tvalue\\n\")\n",
    "    for i in range(len(features)):\n",
    "        ouf.write('%s\\n'%'\\t'.join(map(str, features[i]))) "
   ]
  },
  {
   "cell_type": "code",
   "execution_count": null,
   "metadata": {
    "collapsed": true
   },
   "outputs": [],
   "source": [
    "with open(r'D:\\test\\training_features_2.csv', 'w') as ouf:\n",
    "    ouf.write(\"id_1\\tid_2\\tmut_friends\\tsex\\tcity\\tcountry\\tgraduation\\tuniversity\\tschool\\tschool+uni\\tvalue\\n\")\n",
    "    for i in range(len(features)):\n",
    "        ouf.write('%s\\n'%'\\t'.join(map(str, features[i]))) "
   ]
  },
  {
   "cell_type": "code",
   "execution_count": null,
   "metadata": {
    "collapsed": false
   },
   "outputs": [],
   "source": [
    "import pandas as pd\n",
    "        \n",
    "dataframe = pd.read_csv(r'D:\\test\\training_features.csv', sep = '\\t')"
   ]
  },
  {
   "cell_type": "code",
   "execution_count": null,
   "metadata": {
    "collapsed": false
   },
   "outputs": [],
   "source": [
    "dataframe"
   ]
  },
  {
   "cell_type": "code",
   "execution_count": null,
   "metadata": {
    "collapsed": false
   },
   "outputs": [],
   "source": []
  }
 ],
 "metadata": {
  "kernelspec": {
   "display_name": "Python 2",
   "language": "python",
   "name": "python2"
  },
  "language_info": {
   "codemirror_mode": {
    "name": "ipython",
    "version": 2
   },
   "file_extension": ".py",
   "mimetype": "text/x-python",
   "name": "python",
   "nbconvert_exporter": "python",
   "pygments_lexer": "ipython2",
   "version": "2.7.11"
  }
 },
 "nbformat": 4,
 "nbformat_minor": 0
}
