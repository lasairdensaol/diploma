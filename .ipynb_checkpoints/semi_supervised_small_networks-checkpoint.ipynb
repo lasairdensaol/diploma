{
 "cells": [
  {
   "cell_type": "code",
   "execution_count": 1,
   "metadata": {
    "collapsed": true
   },
   "outputs": [],
   "source": [
    "import networkx as nx\n",
    "import numpy as np\n",
    "import os\n",
    "import codecs\n",
    "import json\n",
    "from collections import defaultdict as dd"
   ]
  },
  {
   "cell_type": "code",
   "execution_count": 2,
   "metadata": {
    "collapsed": true
   },
   "outputs": [],
   "source": [
    "def get_user_network(u_id):\n",
    "    p = r'D:\\University\\Mishenin\\ids\\\\' + str(u_id) + '\\user_network.txt'\n",
    "    with codecs.open(p, 'r','utf-8') as inf:\n",
    "        netw = json.load(inf)\n",
    "    inf.close()\n",
    "\n",
    "    ids = netw.keys()\n",
    "\n",
    "    for k, wrong_id in netw.items():\n",
    "        wr_id = []\n",
    "        for f in wrong_id:\n",
    "            if str(f) not in ids:\n",
    "                wr_id.append(f)\n",
    "        netw[k] = filter(lambda x: x not in wr_id,netw[k])  \n",
    "              \n",
    "    return netw"
   ]
  },
  {
   "cell_type": "code",
   "execution_count": 3,
   "metadata": {
    "collapsed": false
   },
   "outputs": [],
   "source": [
    "#user_id = 1019809\n",
    "user_network = get_user_network(user_id)\n",
    "friends = len(user_network.keys())"
   ]
  },
  {
   "cell_type": "code",
   "execution_count": 4,
   "metadata": {
    "collapsed": true
   },
   "outputs": [],
   "source": [
    "from sklearn.externals import joblib\n",
    "log_regression = joblib.load('D:/test/models/log_regression/log_regression.pkl')\n",
    "#KNN = joblib.load('D:/test/models/KNN/knn.pkl')\n",
    "#RFC = joblib.load('D:/test/models/RFC/rfc.pkl')"
   ]
  },
  {
   "cell_type": "code",
   "execution_count": 5,
   "metadata": {
    "collapsed": true
   },
   "outputs": [],
   "source": [
    "import datetime as dt\n",
    "year = dt.datetime.now().year\n",
    "\n",
    "def map_age(x):\n",
    "    if x is not None:\n",
    "        splited = x.split('.')\n",
    "        if len(splited) == 3:\n",
    "            return year - int(splited[2])\n",
    "    return None"
   ]
  },
  {
   "cell_type": "code",
   "execution_count": 6,
   "metadata": {
    "collapsed": true
   },
   "outputs": [],
   "source": [
    "class my_map(object):\n",
    "\n",
    "    def __init__(self, network):\n",
    "        self.num_of_id = dict(enumerate(network.adj.keys()))\n",
    "        self.id_of_num = dict(zip( network.adj.keys(), range(len(network.adj.keys()))))\n",
    "\n",
    "    def get_id(self, num):\n",
    "        return self.num_of_id[num]\n",
    "    def get_num(self, id):\n",
    "        return self.id_of_num[id]\n",
    "    def ids(self):\n",
    "        return self.id_of_num.keys()\n",
    "    def nums(self):\n",
    "        return self.num_of_id.keys()\n",
    "\n",
    "    def __repr__(self):\n",
    "        return self.num_of_id.__repr__() + \"\\n\\n\" + self.id_of_num.__repr__()\n"
   ]
  },
  {
   "cell_type": "code",
   "execution_count": 7,
   "metadata": {
    "collapsed": true
   },
   "outputs": [],
   "source": [
    "list_of_attr = ['sex', 'city', 'country', 'graduation', 'university', 'school']"
   ]
  },
  {
   "cell_type": "code",
   "execution_count": 8,
   "metadata": {
    "collapsed": true
   },
   "outputs": [],
   "source": [
    "def get_age_from_file(id_us):\n",
    "    #тут считывать значение возраста из файла в директории r'F:\\test\\id' + numb_folder + '\\\\' + str(id_us) + '.txt'\n",
    "    p = r'D:\\University\\Mishenin\\ids\\\\' + str(user_id) + '\\\\' + str(id_us) + '.txt'\n",
    "    with codecs.open(p, 'r','utf-8') as inf:\n",
    "        inf_about_user = json.load(inf)\n",
    "    inf.close()\n",
    "    \n",
    "    if 'bdate' not in inf_about_user:\n",
    "        return None\n",
    "    else:\n",
    "        return map_age(inf_about_user['bdate'])"
   ]
  },
  {
   "cell_type": "code",
   "execution_count": 9,
   "metadata": {
    "collapsed": true
   },
   "outputs": [],
   "source": [
    "def find_w(id_1, id_2, m_fr, n_method):\n",
    "    features = []\n",
    "    features.append(get_feature(id_1, id_2, m_fr))\n",
    "    if n_method == 1:\n",
    "        w = log_regression.predict_proba(features)[0][1]\n",
    "    if n_method == 2:\n",
    "        w =  KNN.predict_proba(features)[0][1]\n",
    "    if n_method == 3:\n",
    "        w = RFC.predict_proba(features)[0][1]\n",
    "    \n",
    "    return w"
   ]
  },
  {
   "cell_type": "code",
   "execution_count": 10,
   "metadata": {
    "collapsed": true
   },
   "outputs": [],
   "source": [
    "def get_feature(id_user1, id_user2, m_fr):\n",
    "    res_feat = []\n",
    "    res_feat = comparing(get_inf_from_file(id_user1), get_inf_from_file(id_user2), m_fr)\n",
    "    return res_feat"
   ]
  },
  {
   "cell_type": "code",
   "execution_count": 11,
   "metadata": {
    "collapsed": true
   },
   "outputs": [],
   "source": [
    "def mutual_friends(m_fr):\n",
    "    if friends <= 0:\n",
    "        return 0\n",
    "    else:\n",
    "        return m_fr / float(friends)"
   ]
  },
  {
   "cell_type": "code",
   "execution_count": 12,
   "metadata": {
    "collapsed": true
   },
   "outputs": [],
   "source": [
    "def comparing(inf1, inf2, m_fr):\n",
    "    res = []\n",
    "    res.append(mutual_friends(m_fr))\n",
    "    for i in range(1, len(list_of_attr) + 1):\n",
    "        res.append(comparing_components(inf1[i], inf2[i]))\n",
    "    res.append(res[5] and res[6])\n",
    "    return res"
   ]
  },
  {
   "cell_type": "code",
   "execution_count": 13,
   "metadata": {
    "collapsed": true
   },
   "outputs": [],
   "source": [
    "def comparing_components(comp_1, comp_2):\n",
    "    if comp_1 == None or comp_2 == None:\n",
    "        return 0\n",
    "    else:\n",
    "        return int(comp_1 == comp_2)"
   ]
  },
  {
   "cell_type": "code",
   "execution_count": 14,
   "metadata": {
    "collapsed": true
   },
   "outputs": [],
   "source": [
    "def get_inf_from_file(id_us):\n",
    "    p = r'D:\\University\\Mishenin\\ids\\\\' + str(user_id) + '\\\\' + str(id_us) + '.txt'\n",
    "    with codecs.open(p, 'r','utf-8') as inf:\n",
    "        inf_about_user = json.load(inf)\n",
    "    inf.close()\n",
    "    inf_about_user = dd(lambda: None, inf_about_user)\n",
    "    res_inf = []\n",
    "    res_inf.append(inf_about_user['id'])\n",
    "    res_inf.append(inf_about_user['sex'])\n",
    "    try:\n",
    "        res_inf.append(inf_about_user['city']['id'])\n",
    "    except:\n",
    "        res_inf.append(None)\n",
    "    try:\n",
    "        res_inf.append(inf_about_user['country']['id'])\n",
    "    except:\n",
    "        res_inf.append(None)\n",
    "    res_inf.append(inf_about_user['graduation'])\n",
    "    res_inf.append(inf_about_user['university'])\n",
    "    try:\n",
    "        res_inf.append(int(inf_about_user['schools'][0]['id']))\n",
    "    except:\n",
    "        res_inf.append(None)\n",
    "    #print res_inf\n",
    "    return res_inf"
   ]
  },
  {
   "cell_type": "code",
   "execution_count": 15,
   "metadata": {
    "collapsed": true
   },
   "outputs": [],
   "source": [
    "def init_graph(u_network):\n",
    "    graph = nx.Graph()\n",
    "\n",
    "    all_friend = u_network.keys()\n",
    "    \n",
    "    for k, v in u_network.items():\n",
    "        for t in v:\n",
    "            e = 0\n",
    "            for el in u_network[str(t)]:\n",
    "                if el in v:\n",
    "                    e += 1\n",
    "            w = find_w(k, t, e, 1)\n",
    "            graph.add_edge(int(k),int(t), weight = w)\n",
    "            \n",
    "    #for u in all_friend:\n",
    "    #    \n",
    "    #    for v in all_friend:\n",
    "    #        if v != u:\n",
    "    #            #матрица смежности\n",
    "    #            #if v in u_network[u]:\n",
    "    #            #    w = 1\n",
    "    #            #else:\n",
    "    #            #    w = 0\n",
    "    #            \n",
    "    #            #машинное обучение\n",
    "    #            if v in u_network[u]:\n",
    "    #                print mi\n",
    "    #                e = 0\n",
    "    #                for el in u_network[u]:\n",
    "    #                    if el in u_network[v]:\n",
    "    #                        e += 1\n",
    "    #                w = find_w(u, v, e, 1)\n",
    "    #                graph.add_edge(int(u),int(v), weight = w)\n",
    "                \n",
    "\n",
    "    return graph"
   ]
  },
  {
   "cell_type": "code",
   "execution_count": 16,
   "metadata": {
    "collapsed": true
   },
   "outputs": [],
   "source": [
    "def get_class(age, k):\n",
    "    if k == 20:\n",
    "        return age / 5\n",
    "    if k == 100:\n",
    "        return age"
   ]
  },
  {
   "cell_type": "code",
   "execution_count": 17,
   "metadata": {
    "collapsed": true
   },
   "outputs": [],
   "source": [
    "def power(a, p):\n",
    "    if p < 0:\n",
    "        return np.linalg.inv(a) ** abs(p)\n",
    "    elif p == 0:\n",
    "        return np.eye(a.shape[0])\n",
    "    else:\n",
    "        return a ** p"
   ]
  },
  {
   "cell_type": "code",
   "execution_count": 19,
   "metadata": {
    "collapsed": true
   },
   "outputs": [],
   "source": [
    "def find_A(id_num, us_network): #матрица W\n",
    "    n = len(id_num.nums())\n",
    "    A = np.zeros([n, n])\n",
    "    \n",
    "    for k, v in us_network.adj.items():\n",
    "        i = id_num.get_num(k)\n",
    "        for h, w in v.items():\n",
    "            j = id_num.get_num(h)\n",
    "            A[i, j] = A[j, i] = w['weight']\n",
    "    \n",
    "    return A"
   ]
  },
  {
   "cell_type": "code",
   "execution_count": null,
   "metadata": {
    "collapsed": true
   },
   "outputs": [],
   "source": [
    "def find_classes(id_num, k, m):\n",
    "    classes = {}\n",
    "    i = 0\n",
    "    check = []\n",
    "    for _id in id_num.ids():\n",
    "        # получение возраста\n",
    "        age = get_age_from_file(_id) #функция в Create sample for machine learning\n",
    "        if age:\n",
    "            i += 1\n",
    "            \n",
    "            if i % 10 == 0:\n",
    "                check.append(_id)\n",
    "                classes[id_num.get_num(_id)] = -1\n",
    "                continue\n",
    "                \n",
    "            if i % m == 0:\n",
    "                classes[id_num.get_num(_id)] = -1\n",
    "                continue\n",
    "                \n",
    "            _class = get_class(age, k)\n",
    "            if _class > k - 1:\n",
    "                _class = -1\n",
    "        else:\n",
    "            _class = -1\n",
    "\n",
    "        classes[id_num.get_num(_id)] = _class\n",
    "    return (classes, check)\n",
    "\n",
    "def get_Y(C, k):\n",
    "    n = len(C)\n",
    "    Y = np.zeros((n,k))\n",
    "\n",
    "    for key, value in C.items():\n",
    "        if value > -1:\n",
    "            Y[key][value] = 1\n",
    "\n",
    "    return Y\n",
    "\n",
    "\n",
    "def classification(graph, sigma = 1, alpha = 0.75, k = 100):\n",
    "    res = []\n",
    "    mu =  2 / alpha - 2\n",
    "    id_num = my_map(graph)\n",
    "    A = find_A(id_num, graph)\n",
    "    C, check = find_classes(id_num, k, np.random.randint(5, 15))\n",
    "    print C\n",
    "    for j in range(0,5):\n",
    "        C, check = find_classes(id_num, k, np.random.randint(5, 15))\n",
    "        print C\n",
    "        Y = get_Y(C, k)\n",
    "        D = np.diag(np.sum(A, axis = 1))\n",
    "    \n",
    "        I = np.eye(len(A))\n",
    "    \n",
    "        F = np.zeros(Y.shape)\n",
    "    \n",
    "    #TMP_D = power(D, (-1) * sigma)\n",
    "    #TMP_1 = alpha * np.dot(A, TMP_D)\n",
    "    #TMP_2 = (1 - alpha) * np.linalg.inv(I - TMP_1)\n",
    "    #\n",
    "    #for x in range(k):\n",
    "    #    F[:, x] = np.dot(TMP_2, Y[:, x])\n",
    "    \n",
    "    #общая формула\n",
    "        TMP_D_1 = power(D, (-1) * sigma)\n",
    "        TMP_D_2 = power(D, sigma - 1)\n",
    "        TMP_1 = np.dot(TMP_D_1, A)\n",
    "        TMP_2 = np.dot(TMP_1, TMP_D_2)\n",
    "        TMP_3 = np.linalg.inv(I - alpha * TMP_2)\n",
    "        for x in range(k):\n",
    "            F[:, x] = (1 - alpha) * np.dot(TMP_3, Y[:, x])\n",
    "    \n",
    "        ANSWER = np.argmax(F, axis = 1)\n",
    "    \n",
    "        L = dict(id_num.id_of_num)\n",
    "        for k,v in L.items():\n",
    "            L[k] = str(ANSWER[v])\n",
    "\n",
    "        res.append((L, check))\n",
    "    return res"
   ]
  },
  {
   "cell_type": "code",
   "execution_count": null,
   "metadata": {
    "collapsed": false
   },
   "outputs": [
    {
     "name": "stdout",
     "output_type": "stream",
     "text": [
      "{0: 33, 1: 30, 2: 31, 3: -1, 4: -1, 5: -1, 6: 29, 7: -1, 8: 31, 9: -1, 10: -1, 11: 31, 12: -1, 13: 31, 14: -1, 15: 33, 16: -1, 17: -1, 18: -1, 19: 33, 20: 31, 21: 30, 22: 31, 23: -1, 24: -1, 25: -1, 26: -1, 27: 33, 28: -1, 29: -1, 30: 31, 31: -1, 32: 31, 33: 32, 34: 33, 35: -1, 36: 32, 37: -1, 38: -1, 39: 29, 40: -1, 41: -1, 42: -1, 43: 31, 44: -1, 45: -1, 46: 41, 47: -1, 48: 34, 49: -1, 50: -1, 51: -1, 52: 31, 53: -1, 54: -1, 55: -1, 56: 39, 57: 34, 58: -1, 59: 29, 60: 53, 61: 16, 62: -1, 63: 31, 64: -1, 65: 31, 66: -1, 67: 31, 68: 30, 69: -1, 70: -1, 71: 31, 72: -1, 73: -1, 74: -1, 75: 31, 76: -1, 77: -1, 78: 31, 79: -1, 80: 31, 81: -1, 82: -1, 83: -1, 84: 32, 85: 51, 86: -1, 87: -1, 88: -1, 89: -1, 90: -1, 91: -1, 92: -1, 93: -1, 94: 31, 95: 32, 96: 30, 97: -1, 98: 31, 99: -1, 100: -1, 101: -1, 102: -1, 103: 33, 104: -1, 105: 26, 106: -1, 107: -1, 108: 31, 109: -1, 110: 35, 111: 31, 112: -1, 113: 31, 114: -1, 115: -1, 116: -1, 117: -1, 118: 31, 119: 29, 120: 32, 121: 30, 122: 31, 123: -1, 124: -1, 125: -1, 126: -1, 127: -1, 128: 31, 129: -1, 130: -1, 131: -1, 132: 31, 133: -1, 134: 33, 135: 31, 136: -1, 137: -1, 138: 32, 139: -1, 140: 31, 141: 31, 142: 31, 143: -1, 144: -1, 145: -1, 146: -1, 147: -1, 148: -1, 149: -1, 150: -1, 151: -1, 152: 16, 153: 31, 154: -1, 155: -1, 156: -1, 157: -1, 158: -1, 159: -1, 160: -1, 161: 29, 162: -1, 163: -1, 164: 30, 165: -1, 166: 31, 167: 30, 168: 31, 169: 31, 170: 30, 171: -1, 172: -1, 173: -1, 174: -1, 175: 33, 176: -1, 177: -1, 178: 31, 179: -1, 180: 31, 181: -1, 182: -1, 183: 31, 184: -1, 185: -1, 186: -1, 187: -1, 188: -1, 189: -1, 190: 32, 191: -1, 192: -1, 193: 31, 194: -1, 195: -1, 196: 31, 197: -1, 198: 31, 199: 30, 200: -1, 201: 32, 202: -1, 203: -1, 204: -1, 205: -1, 206: 30, 207: 31, 208: 30, 209: 33, 210: -1, 211: 28, 212: -1}\n",
      "{0: 33, 1: 30, 2: 31, 3: -1, 4: -1, 5: -1, 6: 29, 7: -1, 8: 31, 9: -1, 10: -1, 11: 31, 12: -1, 13: 31, 14: -1, 15: 33, 16: -1, 17: -1, 18: -1, 19: -1, 20: 31, 21: 30, 22: 31, 23: 31, 24: -1, 25: -1, 26: -1, 27: 33, 28: -1, 29: -1, 30: 31, 31: -1, 32: 31, 33: 32, 34: 33, 35: -1, 36: 32, 37: -1, 38: -1, 39: 29, 40: -1, 41: -1, 42: -1, 43: 31, 44: 31, 45: -1, 46: 41, 47: -1, 48: -1, 49: -1, 50: -1, 51: -1, 52: 31, 53: -1, 54: -1, 55: -1, 56: 39, 57: 34, 58: -1, 59: 29, 60: 53, 61: 16, 62: -1, 63: 31, 64: -1, 65: 31, 66: -1, 67: 31, 68: 30, 69: -1, 70: 32, 71: 31, 72: -1, 73: -1, 74: -1, 75: 31, 76: -1, 77: -1, 78: 31, 79: -1, 80: 31, 81: -1, 82: -1, 83: -1, 84: 32, 85: 51, 86: -1, 87: -1, 88: -1, 89: -1, 90: 31, 91: -1, 92: -1, 93: -1, 94: 31, 95: 32, 96: 30, 97: -1, 98: 31, 99: -1, 100: -1, 101: -1, 102: -1, 103: 33, 104: -1, 105: 26, 106: -1, 107: -1, 108: 31, 109: -1, 110: 35, 111: 31, 112: -1, 113: 31, 114: -1, 115: -1, 116: -1, 117: -1, 118: -1, 119: -1, 120: 32, 121: -1, 122: 31, 123: -1, 124: -1, 125: -1, 126: -1, 127: 30, 128: -1, 129: -1, 130: -1, 131: -1, 132: 31, 133: -1, 134: 33, 135: 31, 136: -1, 137: -1, 138: 32, 139: -1, 140: 31, 141: 31, 142: 31, 143: -1, 144: -1, 145: 34, 146: -1, 147: -1, 148: -1, 149: -1, 150: 31, 151: -1, 152: 16, 153: 31, 154: -1, 155: -1, 156: -1, 157: -1, 158: -1, 159: -1, 160: -1, 161: 29, 162: -1, 163: -1, 164: 30, 165: 30, 166: 31, 167: 30, 168: 31, 169: 31, 170: -1, 171: -1, 172: -1, 173: -1, 174: -1, 175: 33, 176: -1, 177: -1, 178: 31, 179: -1, 180: 31, 181: -1, 182: -1, 183: 31, 184: -1, 185: -1, 186: -1, 187: -1, 188: -1, 189: 30, 190: 32, 191: -1, 192: -1, 193: -1, 194: -1, 195: -1, 196: 31, 197: -1, 198: 31, 199: 30, 200: -1, 201: 32, 202: -1, 203: -1, 204: -1, 205: -1, 206: 30, 207: 31, 208: 30, 209: 33, 210: 30, 211: 28, 212: -1}\n",
      "{0: None, 1: None, 2: None, 3: -1, 4: -1, 5: -1, 6: None, 7: -1, 8: None, 9: -1, 10: -1, 11: None, 12: -1, 13: None, 14: -1, 15: None, 16: -1, 17: -1, 18: -1, 19: None, 20: None, 21: None, 22: None, 23: None, 24: -1, 25: -1, 26: -1, 27: None, 28: -1, 29: -1, 30: None, 31: -1, 32: None, 33: None, 34: None, 35: -1, 36: None, 37: -1, 38: -1, 39: None, 40: -1, 41: -1, 42: -1, 43: None, 44: None, 45: -1, 46: None, 47: -1, 48: None, 49: -1, 50: -1, 51: -1, 52: None, 53: -1, 54: -1, 55: -1, 56: None, 57: None, 58: -1, 59: None, 60: None, 61: None, 62: -1, 63: None, 64: -1, 65: None, 66: -1, 67: None, 68: None, 69: -1, 70: None, 71: None, 72: -1, 73: -1, 74: -1, 75: None, 76: -1, 77: -1, 78: None, 79: -1, 80: None, 81: -1, 82: -1, 83: -1, 84: None, 85: None, 86: -1, 87: -1, 88: -1, 89: -1, 90: None, 91: -1, 92: -1, 93: -1, 94: None, 95: None, 96: None, 97: -1, 98: None, 99: -1, 100: -1, 101: -1, 102: -1, 103: None, 104: -1, 105: None, 106: -1, 107: None, 108: None, 109: -1, 110: None, 111: None, 112: -1, 113: None, 114: -1, 115: -1, 116: -1, 117: -1, 118: None, 119: None, 120: None, 121: None, 122: None, 123: -1, 124: -1, 125: -1, 126: -1, 127: None, 128: None, 129: -1, 130: -1, 131: -1, 132: None, 133: -1, 134: None, 135: None, 136: -1, 137: -1, 138: None, 139: -1, 140: None, 141: None, 142: None, 143: -1, 144: -1, 145: None, 146: -1, 147: -1, 148: -1, 149: -1, 150: None, 151: -1, 152: None, 153: None, 154: -1, 155: -1, 156: -1, 157: -1, 158: -1, 159: -1, 160: -1, 161: None, 162: -1, 163: -1, 164: None, 165: None, 166: None, 167: None, 168: None, 169: None, 170: None, 171: -1, 172: -1, 173: -1, 174: -1, 175: None, 176: -1, 177: -1, 178: None, 179: -1, 180: None, 181: -1, 182: -1, 183: None, 184: -1, 185: -1, 186: -1, 187: -1, 188: -1, 189: None, 190: None, 191: -1, 192: -1, 193: None, 194: -1, 195: -1, 196: None, 197: -1, 198: None, 199: None, 200: -1, 201: None, 202: -1, 203: -1, 204: -1, 205: -1, 206: None, 207: None, 208: None, 209: None, 210: None, 211: None, 212: -1}"
     ]
    }
   ],
   "source": [
    "#id_users = os.listdir(r'D:\\University\\Mishenin\\ids\\\\')\n",
    "id_users = [1007070]\n",
    "for x in id_users:\n",
    "    user_id = int(x)\n",
    "    user_network = get_user_network(user_id)\n",
    "    friends = len(user_network.keys())\n",
    "    s_graph = nx.Graph()\n",
    "    s_graph = init_graph(user_network)\n",
    "    ans = classification(s_graph)\n",
    "    ans = list(ans)\n",
    "    print ans\n",
    "    check = ans[0][1]\n",
    "    answ = []\n",
    "    for i in ans:\n",
    "        answ.append(i[0])\n",
    "    \n",
    "    err = statict(answ, check)\n",
    "    save_2(err)\n",
    "    save_user(answ)"
   ]
  },
  {
   "cell_type": "code",
   "execution_count": 43,
   "metadata": {
    "collapsed": false
   },
   "outputs": [
    {
     "data": {
      "text/plain": [
       "[0, 1, 2, 3, 4]"
      ]
     },
     "execution_count": 43,
     "metadata": {},
     "output_type": "execute_result"
    }
   ],
   "source": [
    "def mi():\n",
    "    for i in range(5):\n",
    "        yield (i, 2)\n",
    "\n",
    "t = mi()\n",
    "t = list(t)\n",
    "a = []\n",
    "for i in t:\n",
    "    a.append(i[0])\n",
    "    \n",
    "a"
   ]
  },
  {
   "cell_type": "code",
   "execution_count": 20,
   "metadata": {
    "collapsed": false
   },
   "outputs": [],
   "source": [
    "s_graph = nx.Graph()\n",
    "s_graph = init_graph(user_network)"
   ]
  },
  {
   "cell_type": "code",
   "execution_count": 21,
   "metadata": {
    "collapsed": false
   },
   "outputs": [],
   "source": [
    "ans, check, W, id_num = classification(s_graph)"
   ]
  },
  {
   "cell_type": "code",
   "execution_count": 49,
   "metadata": {
    "collapsed": false
   },
   "outputs": [],
   "source": [
    "def statict(answer, ch):\n",
    "    stat_of_age = []\n",
    "    for i in ch:\n",
    "        s = 0\n",
    "        for j in range(len(answer)):\n",
    "            s += int(answer[j][i])\n",
    "        s = s/float(len(answer))\n",
    "        stat_of_age.append(abs(int(s) - int(get_class(get_age_from_file(i), 100))))\n",
    "    summ = 0\n",
    "    for i in range(len(stat_of_age)):\n",
    "        summ = stat_of_age[i]**2 + summ\n",
    "        \n",
    "    save(stat_of_age)\n",
    "\n",
    "    return (summ/float(len(stat_of_age)))**0.5"
   ]
  },
  {
   "cell_type": "code",
   "execution_count": 48,
   "metadata": {
    "collapsed": true
   },
   "outputs": [],
   "source": [
    "def save(stat_of_age):\n",
    "    pat = r'D:\\University\\Mishenin\\err\\\\' + str(user_id) + '_friends.txt'\n",
    "    with open(pat, 'w') as ouf:\n",
    "        for i in range(len(stat_of_age)):\n",
    "            ouf.write(\"%f\\n\"%(stat_of_age[i]))"
   ]
  },
  {
   "cell_type": "code",
   "execution_count": 51,
   "metadata": {
    "collapsed": true
   },
   "outputs": [],
   "source": [
    "def save_2(error):\n",
    "    pat = r'D:\\University\\Mishenin\\err_2.txt'\n",
    "    with open(pat, 'a') as ouf:\n",
    "        ouf.write(\"%f\\n\"%(error))"
   ]
  },
  {
   "cell_type": "code",
   "execution_count": 44,
   "metadata": {
    "collapsed": true
   },
   "outputs": [],
   "source": [
    "def save_user(answer):\n",
    "    pat = r'D:\\University\\Mishenin\\err_user.csv'\n",
    "    age = 0\n",
    "    s = 0\n",
    "    for j in range(len(answer)):\n",
    "        s += int(answer[j][user_id])\n",
    "    s = s/float(len(answer))\n",
    "    age = (abs(int(s) - int(get_class(get_age_from_file(user_id), 100))))\n",
    "    with open(pat, 'a') as ouf:\n",
    "        ouf.write(\"%d\\t%f\\n\"%(user_id, age))"
   ]
  },
  {
   "cell_type": "code",
   "execution_count": 24,
   "metadata": {
    "collapsed": false
   },
   "outputs": [
    {
     "name": "stdout",
     "output_type": "stream",
     "text": [
      "fl\n",
      "28\n",
      "29\n",
      "_________\n",
      "fl\n",
      "28\n",
      "32\n",
      "_________\n",
      "tr\n",
      "28\n",
      "28\n",
      "_________\n",
      "tr\n",
      "28\n",
      "28\n",
      "_________\n",
      "fl\n",
      "28\n",
      "27\n",
      "_________\n",
      "tr\n",
      "28\n",
      "28\n",
      "_________\n",
      "fl\n",
      "28\n",
      "25\n",
      "_________\n",
      "fl\n",
      "28\n",
      "29\n",
      "_________\n",
      "fl\n",
      "28\n",
      "27\n",
      "_________\n",
      "fl\n",
      "28\n",
      "26\n",
      "_________\n",
      "fl\n",
      "28\n",
      "29\n",
      "_________\n",
      "fl\n",
      "28\n",
      "27\n",
      "_________\n",
      "tr\n",
      "28\n",
      "28\n",
      "_________\n",
      "tr\n",
      "28\n",
      "28\n",
      "_________\n",
      "tr\n",
      "28\n",
      "28\n",
      "_________\n",
      "fl\n",
      "28\n",
      "20\n",
      "_________\n",
      "fl\n",
      "28\n",
      "26\n",
      "_________\n",
      "fl\n",
      "28\n",
      "36\n",
      "_________\n",
      "fl\n",
      "28\n",
      "29\n",
      "_________\n",
      "fl\n",
      "28\n",
      "24\n",
      "_________\n",
      "fl\n",
      "28\n",
      "30\n",
      "_________\n",
      "fl\n",
      "28\n",
      "31\n",
      "_________\n",
      "fl\n",
      "28\n",
      "32\n",
      "_________\n",
      "tr\n",
      "28\n",
      "28\n",
      "_________\n",
      "7\n",
      "17\n",
      "24\n"
     ]
    }
   ],
   "source": [
    "tr = 0\n",
    "fl = 0\n",
    "for i in check:\n",
    "    if str(ans[i]) == str(get_class(get_age_from_file(i), 100)):\n",
    "        tr += 1\n",
    "        print 'tr'\n",
    "        print ans[i]\n",
    "        print get_age_from_file(i)\n",
    "        print '_________'\n",
    "    else:\n",
    "        fl += 1\n",
    "        print 'fl'\n",
    "        print ans[i]\n",
    "        print get_age_from_file(i)\n",
    "        print '_________'\n",
    "print tr\n",
    "print fl\n",
    "print len(check)\n"
   ]
  },
  {
   "cell_type": "code",
   "execution_count": 23,
   "metadata": {
    "collapsed": false
   },
   "outputs": [
    {
     "data": {
      "text/plain": [
       "[38402157,\n",
       " 2846916,\n",
       " 11208964,\n",
       " 33243488,\n",
       " 15636903,\n",
       " 85426668,\n",
       " 31736387,\n",
       " 12243607,\n",
       " 3896017,\n",
       " 160828173,\n",
       " 15590226,\n",
       " 30006176,\n",
       " 7242769,\n",
       " 88624216,\n",
       " 13743985,\n",
       " 172778362,\n",
       " 7404922,\n",
       " 89677274,\n",
       " 22666776,\n",
       " 40457899,\n",
       " 10403598,\n",
       " 2850638,\n",
       " 102315896,\n",
       " 135315374]"
      ]
     },
     "execution_count": 23,
     "metadata": {},
     "output_type": "execute_result"
    }
   ],
   "source": [
    "check"
   ]
  },
  {
   "cell_type": "code",
   "execution_count": null,
   "metadata": {
    "collapsed": true
   },
   "outputs": [],
   "source": []
  }
 ],
 "metadata": {
  "kernelspec": {
   "display_name": "Python 2",
   "language": "python",
   "name": "python2"
  },
  "language_info": {
   "codemirror_mode": {
    "name": "ipython",
    "version": 2
   },
   "file_extension": ".py",
   "mimetype": "text/x-python",
   "name": "python",
   "nbconvert_exporter": "python",
   "pygments_lexer": "ipython2",
   "version": "2.7.11"
  }
 },
 "nbformat": 4,
 "nbformat_minor": 0
}
