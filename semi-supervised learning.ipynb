{
 "cells": [
  {
   "cell_type": "code",
   "execution_count": 1,
   "metadata": {
    "collapsed": false
   },
   "outputs": [],
   "source": [
    "import networkx as nx\n",
    "import numpy as np\n",
    "import os\n",
    "import codecs\n",
    "import json"
   ]
  },
  {
   "cell_type": "code",
   "execution_count": 2,
   "metadata": {
    "collapsed": true
   },
   "outputs": [],
   "source": [
    "import datetime as dt\n",
    "year = dt.datetime.now().year\n",
    "\n",
    "def map_age(x):\n",
    "    if x is not None:\n",
    "        splited = x.split('.')\n",
    "        if len(splited) == 3:\n",
    "            return year - int(splited[2])\n",
    "    return None"
   ]
  },
  {
   "cell_type": "code",
   "execution_count": 3,
   "metadata": {
    "collapsed": true
   },
   "outputs": [],
   "source": [
    "class my_map(object):\n",
    "\n",
    "    def __init__(self, network):\n",
    "        self.num_of_id = dict(enumerate(network.adj.keys()))\n",
    "        self.id_of_num = dict(zip( network.adj.keys(), range(len(network.adj.keys()))))\n",
    "\n",
    "    def get_id(self, num):\n",
    "        return self.num_of_id[num]\n",
    "    def get_num(self, id):\n",
    "        return self.id_of_num[id]\n",
    "    def ids(self):\n",
    "        return self.id_of_num.keys()\n",
    "    def nums(self):\n",
    "        return self.num_of_id.keys()\n",
    "\n",
    "    def __repr__(self):\n",
    "        return self.num_of_id.__repr__() + \"\\n\\n\" + self.id_of_num.__repr__()\n"
   ]
  },
  {
   "cell_type": "code",
   "execution_count": 4,
   "metadata": {
    "collapsed": true
   },
   "outputs": [],
   "source": [
    "id_1 = os.listdir(r'D:\\test\\id1\\\\')\n",
    "id_2 = os.listdir(r'D:\\test\\id2\\\\')\n",
    "id_3 = os.listdir(r'D:\\test\\id3\\\\')\n",
    "id_4 = os.listdir(r'D:\\test\\id4\\\\')\n",
    "net = os.listdir(r'D:\\test\\networks\\\\')\n",
    "\n",
    "def get_age(id_us_int):\n",
    "    id_us = str(id_us_int) + '.txt'\n",
    "    if id_us in id_1:\n",
    "        age = get_age_from_file('1', id_us)\n",
    "    if id_us in id_2:\n",
    "        age = get_age_from_file('2', id_us)\n",
    "    if id_us in id_3:\n",
    "        age = get_age_from_file('3', id_us)\n",
    "    if id_us in id_4:\n",
    "        age = get_age_from_file('4', id_us)\n",
    "    return age\n",
    "\n",
    "def get_age_from_file(numb_folder, id_us):\n",
    "    #тут считывать значение возраста из файла в директории r'F:\\test\\id' + numb_folder + '\\\\' + str(id_us) + '.txt'\n",
    "    p = r'F:\\test\\id' + numb_folder + '\\\\' + id_us\n",
    "    with codecs.open(p, 'r','utf-8') as inf:\n",
    "        inf_about_user = json.load(inf)\n",
    "    inf.close()\n",
    "    \n",
    "    if 'bdate' not in inf_about_user:\n",
    "        return None\n",
    "    else:\n",
    "        return map_age(inf_about_user['bdate'])"
   ]
  },
  {
   "cell_type": "code",
   "execution_count": 25,
   "metadata": {
    "collapsed": true
   },
   "outputs": [],
   "source": [
    "def init(user_id, u_network):\n",
    "    graph = nx.Graph()\n",
    "\n",
    "    all_friend = u_network.keys()\n",
    "\n",
    "    for u in all_friend:\n",
    "        for v in all_friend:\n",
    "            if v <> u:\n",
    "                #машинное обучение\n",
    "                w = get_weights.find_w(u, v)\n",
    "                \n",
    "                #матрица смежности\n",
    "                #if v in u_network[u]:\n",
    "                    #w = 1\n",
    "                #else:\n",
    "                    #w = 0\n",
    "                    \n",
    "                #китайцы\n",
    "                    \n",
    "                #здесь задавать матрицу весов w - вес    \n",
    "                graph.add_edge(int(u),int(v), weight = w)\n",
    "\n",
    "    #graph.remove_node(user_id)\n",
    "\n",
    "    return graph"
   ]
  },
  {
   "cell_type": "code",
   "execution_count": 5,
   "metadata": {
    "collapsed": true
   },
   "outputs": [],
   "source": [
    "def get_user_network(user_id):\n",
    "    p = r'D:\\test\\networks\\\\' + str(user_id) + '_user_network.txt'\n",
    "    with codecs.open(p, 'r','utf-8') as inf:\n",
    "        netw = json.load(inf)\n",
    "    inf.close()\n",
    "\n",
    "    ids = netw.keys()\n",
    "\n",
    "    for k, wrong_id in netw.items():\n",
    "        wr_id = []\n",
    "        for f in wrong_id:\n",
    "            if str(f) not in ids:\n",
    "                wr_id.append(f)\n",
    "        netw[k] = filter(lambda x: x not in wr_id,netw[k])  \n",
    "              \n",
    "    return netw"
   ]
  },
  {
   "cell_type": "code",
   "execution_count": 6,
   "metadata": {
    "collapsed": false
   },
   "outputs": [
    {
     "name": "stderr",
     "output_type": "stream",
     "text": [
      "C:\\Anaconda2\\lib\\site-packages\\matplotlib\\__init__.py:872: UserWarning: axes.color_cycle is deprecated and replaced with axes.prop_cycle; please use the latter.\n",
      "  warnings.warn(self.msg_depr % (key, alt_key))\n"
     ]
    }
   ],
   "source": [
    "from matplotlib import rc, rcParams\n",
    "import matplotlib.pyplot as plt\n",
    "font = {'family': 'Droid Sans',\n",
    "        'weight': 'normal'}\n",
    "rc('font', **font)\n",
    "\n",
    "\n",
    "colors = [(0.10588235294117647, 0.6196078431372549, 0.4666666666666667),\n",
    " (0.8509803921568627, 0.37254901960784315, 0.00784313725490196),\n",
    " (0.4588235294117647, 0.4392156862745098, 0.7019607843137254),\n",
    " (0.9058823529411765, 0.1607843137254902, 0.5411764705882353),\n",
    " (0.4, 0.6509803921568628, 0.11764705882352941),\n",
    " (0.9019607843137255, 0.6705882352941176, 0.00784313725490196),\n",
    " (0.6509803921568628, 0.4627450980392157, 0.11372549019607843)]\n",
    "\n",
    "rcParams['figure.figsize'] = (10, 6)\n",
    "rcParams['figure.dpi'] = 150\n",
    "rcParams['axes.color_cycle'] = colors\n",
    "rcParams['lines.linewidth'] = 2\n",
    "rcParams['axes.facecolor'] = 'white'\n",
    "rcParams['font.size'] = 14\n",
    "rcParams['patch.edgecolor'] = 'white'\n",
    "rcParams['patch.facecolor'] = colors[0]\n",
    "rcParams['font.family'] = 'StixGeneral'"
   ]
  },
  {
   "cell_type": "code",
   "execution_count": 7,
   "metadata": {
    "collapsed": true
   },
   "outputs": [],
   "source": [
    "def init_graph(user_id):\n",
    "    graph = nx.Graph()\n",
    "    \n",
    "    u_network = get_user_network(user_id)\n",
    "    \n",
    "    for k_u, v_u in u_network.items():\n",
    "        if int(k_u) == user_id:\n",
    "            continue\n",
    "        fr_network = get_user_network(k_u)\n",
    "        graph.add_edge(int(user_id), int(k_u), weight = 1)\n",
    "        #for i in v_u:\n",
    "            #graph.add_edge(int(k_u), int(i), weight = 1)\n",
    "        for k_f, v_f in fr_network.items():\n",
    "            graph.add_edge(int(k_f), int(k_u), weight = 1)\n",
    "            for j in v_f:\n",
    "                graph.add_edge(int(k_f), int(j), weight = 1)\n",
    "            \n",
    "            \n",
    "    plt.figure(figsize=(15, 15))\n",
    "    pos = nx.spring_layout(graph, center = (2,2))\n",
    "    pos[user_id] = (2,2)\n",
    "    nx.draw(graph, pos, node_size = 1, edge_color = '#AAAAAA', width=0.3, with_labels = False, alpha = 0.7, cmap=plt.get_cmap('jet'))\n",
    "    \n",
    "    plt.show()\n",
    "    \n",
    "    return graph"
   ]
  },
  {
   "cell_type": "code",
   "execution_count": 8,
   "metadata": {
    "collapsed": true
   },
   "outputs": [],
   "source": [
    "user_id = 1695050\n",
    "method = 1"
   ]
  },
  {
   "cell_type": "code",
   "execution_count": 27,
   "metadata": {
    "collapsed": false
   },
   "outputs": [],
   "source": [
    "s_graph = nx.Graph()\n",
    "s_graph = init_graph(user_id)"
   ]
  },
  {
   "cell_type": "code",
   "execution_count": 10,
   "metadata": {
    "collapsed": false
   },
   "outputs": [],
   "source": [
    "for i in s_graph.nodes():\n",
    "    get_age(i)"
   ]
  },
  {
   "cell_type": "code",
   "execution_count": null,
   "metadata": {
    "collapsed": false
   },
   "outputs": [],
   "source": [
    "ans, check, W, id_num = classification(s_graph)"
   ]
  },
  {
   "cell_type": "code",
   "execution_count": 10,
   "metadata": {
    "collapsed": false
   },
   "outputs": [
    {
     "ename": "NameError",
     "evalue": "name 'id_num' is not defined",
     "output_type": "error",
     "traceback": [
      "\u001b[1;31m---------------------------------------------------------------------------\u001b[0m",
      "\u001b[1;31mNameError\u001b[0m                                 Traceback (most recent call last)",
      "\u001b[1;32m<ipython-input-10-53a57e08d548>\u001b[0m in \u001b[0;36m<module>\u001b[1;34m()\u001b[0m\n\u001b[0;32m      1\u001b[0m \u001b[0mp_id_num\u001b[0m \u001b[1;33m=\u001b[0m \u001b[1;34m'D:/test/id_num_'\u001b[0m \u001b[1;33m+\u001b[0m \u001b[0mstr\u001b[0m\u001b[1;33m(\u001b[0m\u001b[0muser_id\u001b[0m\u001b[1;33m)\u001b[0m \u001b[1;33m+\u001b[0m \u001b[1;34m'.csv'\u001b[0m\u001b[1;33m\u001b[0m\u001b[0m\n\u001b[0;32m      2\u001b[0m \u001b[1;32mwith\u001b[0m \u001b[0mopen\u001b[0m\u001b[1;33m(\u001b[0m\u001b[0mp_id_num\u001b[0m\u001b[1;33m,\u001b[0m \u001b[1;34m'w'\u001b[0m\u001b[1;33m)\u001b[0m \u001b[1;32mas\u001b[0m \u001b[0mouf\u001b[0m\u001b[1;33m:\u001b[0m\u001b[1;33m\u001b[0m\u001b[0m\n\u001b[1;32m----> 3\u001b[1;33m     \u001b[1;32mfor\u001b[0m \u001b[0mi\u001b[0m \u001b[1;32min\u001b[0m \u001b[0mrange\u001b[0m\u001b[1;33m(\u001b[0m\u001b[0mlen\u001b[0m\u001b[1;33m(\u001b[0m\u001b[0mid_num\u001b[0m\u001b[1;33m.\u001b[0m\u001b[0mids\u001b[0m\u001b[1;33m(\u001b[0m\u001b[1;33m)\u001b[0m\u001b[1;33m)\u001b[0m\u001b[1;33m)\u001b[0m\u001b[1;33m:\u001b[0m\u001b[1;33m\u001b[0m\u001b[0m\n\u001b[0m\u001b[0;32m      4\u001b[0m         \u001b[0mdata\u001b[0m\u001b[1;33m.\u001b[0m\u001b[0mappend\u001b[0m\u001b[1;33m(\u001b[0m\u001b[0mi\u001b[0m\u001b[1;33m)\u001b[0m\u001b[1;33m\u001b[0m\u001b[0m\n\u001b[0;32m      5\u001b[0m         \u001b[0mdata\u001b[0m\u001b[1;33m.\u001b[0m\u001b[0mappend\u001b[0m\u001b[1;33m(\u001b[0m\u001b[0mid_num\u001b[0m\u001b[1;33m.\u001b[0m\u001b[0mget_id\u001b[0m\u001b[1;33m(\u001b[0m\u001b[0mi\u001b[0m\u001b[1;33m)\u001b[0m\u001b[1;33m)\u001b[0m\u001b[1;33m\u001b[0m\u001b[0m\n",
      "\u001b[1;31mNameError\u001b[0m: name 'id_num' is not defined"
     ]
    }
   ],
   "source": [
    "p_id_num = 'D:/test/id_num_' + str(user_id) + '.csv'\n",
    "with open(p_id_num, 'w') as ouf:\n",
    "    for i in range(len(id_num.ids())):\n",
    "        data.append(i)\n",
    "        data.append(id_num.get_id(i))\n",
    "        ouf.write('%s\\n'%'\\t'.join(map(str, data))) "
   ]
  },
  {
   "cell_type": "code",
   "execution_count": null,
   "metadata": {
    "collapsed": true
   },
   "outputs": [],
   "source": [
    "p_W = 'D:/test/method_' + str(n_method) + '_W_' + str(user_id) + '.txt'\n",
    "with open(p_W, 'w') as ouf:\n",
    "    for row in W:\n",
    "        ouf.write(\"%s\\n\" % \" \".join(map(str, row)) )"
   ]
  },
  {
   "cell_type": "code",
   "execution_count": 11,
   "metadata": {
    "collapsed": true
   },
   "outputs": [],
   "source": [
    "#def find_A(id_num, user_network): #матрица W\n",
    "#    n = len(id_num.nums())\n",
    "#    A = np.zeros([n, n])\n",
    "#    \n",
    "#    for k, v in user_network.adj.items():\n",
    "#        i = id_num.get_num(k)\n",
    "#        for h, w in v.items():\n",
    "#            j = id_num.get_num(h)\n",
    "#            A[i, j] = A[j, i] = w['weight']\n",
    "#\n",
    "#    #for k, v in user_network.items():\n",
    "#    #    for f in v:\n",
    "#    #        i = id_num.get_num(str(k))\n",
    "#    #        j = id_num.get_num(str(f))\n",
    "#    #        A[i, j] = A[j, i] = 1\n",
    "#    \n",
    "#    return A\n",
    "\n",
    "def find_A(id_num, user_network):\n",
    "    n = len(id_num.nums())\n",
    "    A = np.zeros([n, n])\n",
    "    \n",
    "    network = get_user_network(user_id)\n",
    "    \n",
    "    for k_u in network.keys():\n",
    "        if int(k_u) == user_id:\n",
    "            continue\n",
    "        fr_network = get_user_network(k_u)\n",
    "        i = id_num.get_num(int(k_u))\n",
    "        j = id_num.get_num(user_id)\n",
    "        A[i, j] = A[j, i] = find_w(user_id, k_u, len(network[k_u]), method)\n",
    "        for t in fr_network.keys():\n",
    "            if int(t) == int(k_u):\n",
    "                continue\n",
    "            i = id_num.get_num(int(k_u))\n",
    "            j = id_num.get_num(int(t))\n",
    "            \n",
    "            A[i, j] = A[j, i] = find_w(k_u, t, len(fr_network[t]), method)\n",
    "            for h in fr_network[t]:\n",
    "                e = 0\n",
    "                if int(h) == int(k_u):\n",
    "                    continue\n",
    "                for el_1 in fr_network[str(h)]:\n",
    "                    for el_2 in fr_network[str(t)]:\n",
    "                        if el_1 == el_2:\n",
    "                            e += 1\n",
    "                i = id_num.get_num(int(t))\n",
    "                j = id_num.get_num(int(h))\n",
    "                A[i, j] = A[j, i] = find_w(t, h, e, method)            \n",
    "    \n",
    "    return A"
   ]
  },
  {
   "cell_type": "code",
   "execution_count": 12,
   "metadata": {
    "collapsed": true
   },
   "outputs": [],
   "source": [
    "def get_class(age, k):\n",
    "    if k == 20:\n",
    "        return age / 5\n",
    "    if k == 100:\n",
    "        return age"
   ]
  },
  {
   "cell_type": "code",
   "execution_count": 13,
   "metadata": {
    "collapsed": false
   },
   "outputs": [],
   "source": [
    "def power(a, p):\n",
    "    if p < 0:\n",
    "        return np.linalg.inv(a) ** abs(p)\n",
    "    elif p == 0:\n",
    "        return np.eye(a.shape[0])\n",
    "    else:\n",
    "        return a ** p\n"
   ]
  },
  {
   "cell_type": "code",
   "execution_count": 14,
   "metadata": {
    "collapsed": true
   },
   "outputs": [],
   "source": [
    "def find_classes(id_num, k):\n",
    "    classes = {}\n",
    "    i = 0\n",
    "    check = []\n",
    "    for _id in id_num.ids():\n",
    "        # получение возраста\n",
    "        age = get_age(_id) #функция в Create sample for machine learning\n",
    "        if age:\n",
    "            i += 1\n",
    "            \n",
    "            if i % 50 == 0:\n",
    "                check.append(_id)\n",
    "                classes[id_num.get_num(_id)] = -1\n",
    "                continue\n",
    "                \n",
    "            _class = get_class(age, k)\n",
    "            if _class > k - 1:\n",
    "                _class = -1\n",
    "        else:\n",
    "            _class = -1\n",
    "\n",
    "        classes[id_num.get_num(_id)] = _class\n",
    "    return (classes, check)\n",
    "\n",
    "def get_Y(C, k):\n",
    "    n = len(C)\n",
    "    Y = np.zeros((n,k))\n",
    "\n",
    "    for key, value in C.items():\n",
    "        if value > -1:\n",
    "            Y[key][value] = 1\n",
    "\n",
    "    return Y\n",
    "\n",
    "\n",
    "def classification(graph, sigma = 1, alpha = 0.75, k = 100):\n",
    "    mu =  2 / alpha - 2\n",
    "    id_num = my_map(graph)\n",
    "    A = find_A(id_num, graph)\n",
    "    C, check = find_classes(id_num, k)\n",
    "    Y = get_Y(C, k)\n",
    "    D = np.diag(np.sum(A, axis = 1))\n",
    "    \n",
    "    I = np.eye(len(A))\n",
    "    \n",
    "    F = np.zeros(Y.shape)\n",
    "    \n",
    "    #TMP_D = power(D, (-1) * sigma)\n",
    "    #TMP_1 = alpha * np.dot(A, TMP_D)\n",
    "    #TMP_2 = (1 - alpha) * np.linalg.inv(I - TMP_1)\n",
    "    #\n",
    "    #for x in range(k):\n",
    "    #    F[:, x] = np.dot(TMP_2, Y[:, x])\n",
    "    \n",
    "    #общая формула\n",
    "    TMP_D_1 = power(D, (-1) * sigma)\n",
    "    TMP_D_2 = power(D, sigma - 1)\n",
    "    TMP_1 = np.dot(TMP_D_1, A)\n",
    "    TMP_2 = np.dot(TMP_1, TMP_D_2)\n",
    "    TMP_3 = np.linalg.inv(I - alpha * TMP_2)\n",
    "    for x in range(k):\n",
    "        F[:, x] = (1 - alpha) * np.dot(TMP_3, Y[:, x])\n",
    "    \n",
    "    ANSWER = np.argmax(F, axis = 1)\n",
    "    \n",
    "    L = dict(id_num.id_of_num)\n",
    "    for k,v in L.items():\n",
    "        L[k] = str(ANSWER[v])\n",
    "\n",
    "    return (L, check, A, id_num)\n",
    "\n",
    "\n",
    "#def classification(graph, tau = 0.001, q = 0.75, k = 100):\n",
    "#    id_num = my_map(graph)\n",
    "#    #print id_num\n",
    "#    A = find_A(id_num, graph)\n",
    "#    C, check = find_classes(id_num, k)\n",
    "#    Y = get_Y(C, k)\n",
    "#\n",
    "#    L = np.diag(np.sum(A, axis = 1)) - A  #L = D - A\n",
    "#    beta = tau * (1/q - 1)\n",
    "#\n",
    "#    TMP = ( np.eye(L.shape[0]) + beta * L )\n",
    "#    TMP = np.linalg.inv(TMP)\n",
    "#    F = TMP.dot(Y)\n",
    "#\n",
    "#\n",
    "#    ANSWER = np.argmax(F, axis = 1)\n",
    "#\n",
    "#    D = dict(id_num.id_of_num)\n",
    "#    for k,v in D.items():\n",
    "#        D[k] = str(ANSWER[v])\n",
    "#\n",
    "#    return (D, check)"
   ]
  },
  {
   "cell_type": "code",
   "execution_count": 27,
   "metadata": {
    "collapsed": false
   },
   "outputs": [
    {
     "data": {
      "text/plain": [
       "'31'"
      ]
     },
     "execution_count": 27,
     "metadata": {},
     "output_type": "execute_result"
    }
   ],
   "source": [
    "ans[check[0]]"
   ]
  },
  {
   "cell_type": "code",
   "execution_count": 28,
   "metadata": {
    "collapsed": false
   },
   "outputs": [
    {
     "name": "stdout",
     "output_type": "stream",
     "text": [
      "fl\n",
      "31\n",
      "33\n",
      "_________\n",
      "fl\n",
      "31\n",
      "24\n",
      "_________\n",
      "fl\n",
      "26\n",
      "38\n",
      "_________\n",
      "fl\n",
      "31\n",
      "28\n",
      "_________\n",
      "fl\n",
      "28\n",
      "27\n",
      "_________\n",
      "fl\n",
      "31\n",
      "27\n",
      "_________\n",
      "fl\n",
      "44\n",
      "50\n",
      "_________\n",
      "fl\n",
      "25\n",
      "42\n",
      "_________\n",
      "fl\n",
      "27\n",
      "28\n",
      "_________\n",
      "fl\n",
      "25\n",
      "22\n",
      "_________\n",
      "tr\n",
      "28\n",
      "28\n",
      "_________\n",
      "fl\n",
      "30\n",
      "35\n",
      "_________\n",
      "fl\n",
      "30\n",
      "25\n",
      "_________\n",
      "fl\n",
      "26\n",
      "27\n",
      "_________\n",
      "fl\n",
      "30\n",
      "38\n",
      "_________\n",
      "fl\n",
      "30\n",
      "29\n",
      "_________\n",
      "fl\n",
      "44\n",
      "28\n",
      "_________\n",
      "fl\n",
      "26\n",
      "27\n",
      "_________\n",
      "fl\n",
      "34\n",
      "23\n",
      "_________\n",
      "fl\n",
      "28\n",
      "30\n",
      "_________\n",
      "fl\n",
      "32\n",
      "33\n",
      "_________\n",
      "fl\n",
      "26\n",
      "28\n",
      "_________\n",
      "fl\n",
      "29\n",
      "22\n",
      "_________\n",
      "fl\n",
      "27\n",
      "29\n",
      "_________\n",
      "tr\n",
      "15\n",
      "15\n",
      "_________\n",
      "fl\n",
      "26\n",
      "33\n",
      "_________\n",
      "fl\n",
      "31\n",
      "36\n",
      "_________\n",
      "fl\n",
      "26\n",
      "29\n",
      "_________\n",
      "fl\n",
      "30\n",
      "34\n",
      "_________\n",
      "fl\n",
      "26\n",
      "27\n",
      "_________\n",
      "fl\n",
      "27\n",
      "35\n",
      "_________\n",
      "fl\n",
      "41\n",
      "24\n",
      "_________\n",
      "tr\n",
      "26\n",
      "26\n",
      "_________\n",
      "fl\n",
      "26\n",
      "25\n",
      "_________\n",
      "fl\n",
      "34\n",
      "35\n",
      "_________\n",
      "fl\n",
      "15\n",
      "23\n",
      "_________\n",
      "tr\n",
      "27\n",
      "27\n",
      "_________\n",
      "fl\n",
      "16\n",
      "15\n",
      "_________\n",
      "fl\n",
      "30\n",
      "32\n",
      "_________\n",
      "fl\n",
      "28\n",
      "39\n",
      "_________\n",
      "fl\n",
      "32\n",
      "28\n",
      "_________\n",
      "fl\n",
      "34\n",
      "37\n",
      "_________\n",
      "fl\n",
      "28\n",
      "32\n",
      "_________\n",
      "fl\n",
      "28\n",
      "25\n",
      "_________\n",
      "tr\n",
      "28\n",
      "28\n",
      "_________\n",
      "tr\n",
      "15\n",
      "15\n",
      "_________\n",
      "fl\n",
      "36\n",
      "40\n",
      "_________\n",
      "fl\n",
      "26\n",
      "55\n",
      "_________\n",
      "tr\n",
      "30\n",
      "30\n",
      "_________\n",
      "fl\n",
      "26\n",
      "32\n",
      "_________\n",
      "fl\n",
      "32\n",
      "29\n",
      "_________\n",
      "tr\n",
      "26\n",
      "26\n",
      "_________\n",
      "fl\n",
      "26\n",
      "63\n",
      "_________\n",
      "fl\n",
      "26\n",
      "27\n",
      "_________\n",
      "fl\n",
      "27\n",
      "32\n",
      "_________\n",
      "fl\n",
      "52\n",
      "59\n",
      "_________\n",
      "tr\n",
      "25\n",
      "25\n",
      "_________\n",
      "fl\n",
      "30\n",
      "29\n",
      "_________\n",
      "tr\n",
      "26\n",
      "26\n",
      "_________\n",
      "fl\n",
      "26\n",
      "31\n",
      "_________\n",
      "fl\n",
      "27\n",
      "28\n",
      "_________\n",
      "fl\n",
      "26\n",
      "31\n",
      "_________\n",
      "fl\n",
      "31\n",
      "26\n",
      "_________\n",
      "tr\n",
      "25\n",
      "25\n",
      "_________\n",
      "11\n",
      "53\n",
      "64\n"
     ]
    }
   ],
   "source": [
    "tr = 0\n",
    "fl = 0\n",
    "for i in check:\n",
    "    if str(ans[i]) == str(get_class(get_age(i), 100)):\n",
    "        tr += 1\n",
    "        print 'tr'\n",
    "        print ans[i]\n",
    "        print get_age(i)\n",
    "        print '_________'\n",
    "    else:\n",
    "        fl += 1\n",
    "        print 'fl'\n",
    "        print ans[i]\n",
    "        print get_age(i)\n",
    "        print '_________'\n",
    "print tr\n",
    "print fl\n",
    "print len(check)"
   ]
  },
  {
   "cell_type": "code",
   "execution_count": 29,
   "metadata": {
    "collapsed": false
   },
   "outputs": [
    {
     "name": "stdout",
     "output_type": "stream",
     "text": [
      "8.13172798365\n"
     ]
    }
   ],
   "source": [
    "stat_of_age = []\n",
    "for i in check:\n",
    "    stat_of_age.append(abs(int(ans[i]) - int(get_class(get_age(i), 100))))\n",
    "summ = 0\n",
    "for i in range(len(stat_of_age)):\n",
    "    summ = stat_of_age[i]**2 + summ\n",
    "\n",
    "print (summ/float(len(stat_of_age)))**0.5"
   ]
  },
  {
   "cell_type": "markdown",
   "metadata": {
    "collapsed": true
   },
   "source": [
    "# Поиск фич и весов"
   ]
  },
  {
   "cell_type": "code",
   "execution_count": 15,
   "metadata": {
    "collapsed": true
   },
   "outputs": [],
   "source": [
    "import vk_api\n",
    "api = vk_api.VkAPI()"
   ]
  },
  {
   "cell_type": "code",
   "execution_count": 16,
   "metadata": {
    "collapsed": true
   },
   "outputs": [],
   "source": [
    "from collections import defaultdict as dd"
   ]
  },
  {
   "cell_type": "code",
   "execution_count": 17,
   "metadata": {
    "collapsed": false
   },
   "outputs": [],
   "source": [
    "from sklearn.externals import joblib\n",
    "log_regression = joblib.load('D:/test/models/log_regression/log_regression.pkl')\n",
    "KNN = joblib.load('D:/test/models/KNN/knn.pkl')\n",
    "RFC = joblib.load('D:/test/models/RFC/rfc.pkl')"
   ]
  },
  {
   "cell_type": "code",
   "execution_count": 18,
   "metadata": {
    "collapsed": true
   },
   "outputs": [],
   "source": [
    "def find_w(id_1, id_2, m_fr, n_method):\n",
    "    features = []\n",
    "    features.append(get_feature(id_1, id_2, m_fr))\n",
    "    if n_method == 1:\n",
    "        w = log_regression.predict_proba(features)[0][1]\n",
    "    if n_method == 2:\n",
    "        w =  KNN.predict_proba(features)[0][1]\n",
    "    if n_method == 3:\n",
    "        w = RFC.predict_proba(features)[0][1]\n",
    "    \n",
    "    return w"
   ]
  },
  {
   "cell_type": "code",
   "execution_count": 19,
   "metadata": {
    "collapsed": true
   },
   "outputs": [],
   "source": [
    "def get_feature(id_user1, id_user2, m_fr):\n",
    "    res_feat = []\n",
    "    res_feat = comparing(get_inf(id_user1), get_inf(id_user2), m_fr)\n",
    "    return res_feat"
   ]
  },
  {
   "cell_type": "code",
   "execution_count": 20,
   "metadata": {
    "collapsed": false
   },
   "outputs": [],
   "source": [
    "def comparing(inf1, inf2, m_fr):\n",
    "    res = []\n",
    "    #res.append(int(inf1[0]))\n",
    "    #res.append(int(inf2[0]))\n",
    "    res.append(mutual_friends(inf1[0], inf2[0], m_fr))\n",
    "    for i in range(1, len(list_of_attr) + 1):\n",
    "        res.append(comparing_components(inf1[i], inf2[i]))\n",
    "    res.append(res[5] and res[6])\n",
    "    #res.append(int(inf1[5] == inf2[5]) and int(inf1[6] == inf2[6]))\n",
    "    #res.append(comparing_age(inf1[0], inf2[0]))\n",
    "    return res"
   ]
  },
  {
   "cell_type": "code",
   "execution_count": 21,
   "metadata": {
    "collapsed": true
   },
   "outputs": [],
   "source": [
    "def comparing_components(comp_1, comp_2):\n",
    "    if comp_1 == None or comp_2 == None:\n",
    "        return 0\n",
    "    else:\n",
    "        return int(comp_1 == comp_2)"
   ]
  },
  {
   "cell_type": "code",
   "execution_count": 22,
   "metadata": {
    "collapsed": true
   },
   "outputs": [],
   "source": [
    "def get_inf_from_file(numb_folder, id_us):\n",
    "    p = r'D:\\test\\id' + numb_folder + '\\\\' + id_us\n",
    "    with codecs.open(p, 'r','utf-8') as inf:\n",
    "        inf_about_user = json.load(inf)\n",
    "    inf.close()\n",
    "    inf_about_user = dd(lambda: None, inf_about_user)\n",
    "    res_inf = []\n",
    "    res_inf.append(inf_about_user['id'])\n",
    "    res_inf.append(inf_about_user['sex'])\n",
    "    try:\n",
    "        res_inf.append(inf_about_user['city']['id'])\n",
    "    except:\n",
    "        res_inf.append(None)\n",
    "    try:\n",
    "        res_inf.append(inf_about_user['country']['id'])\n",
    "    except:\n",
    "        res_inf.append(None)\n",
    "    res_inf.append(inf_about_user['graduation'])\n",
    "    res_inf.append(inf_about_user['university'])\n",
    "    #res_inf.append(inf_about_user['home_town'])\n",
    "    try:\n",
    "        res_inf.append(int(inf_about_user['schools'][0]['id']))\n",
    "    except:\n",
    "        res_inf.append(None)\n",
    "    #print res_inf\n",
    "    return res_inf"
   ]
  },
  {
   "cell_type": "code",
   "execution_count": 23,
   "metadata": {
    "collapsed": true
   },
   "outputs": [],
   "source": [
    "def get_inf(id_us_int):\n",
    "    id_us = str(id_us_int) + '.txt'\n",
    "    if id_us in id_1:\n",
    "        inf = get_inf_from_file('1', id_us)\n",
    "    if id_us in id_2:\n",
    "        inf = get_inf_from_file('2', id_us)\n",
    "    if id_us in id_3:\n",
    "        inf = get_inf_from_file('3', id_us)\n",
    "    if id_us in id_4:\n",
    "        inf = get_inf_from_file('4', id_us)\n",
    "    return inf"
   ]
  },
  {
   "cell_type": "code",
   "execution_count": 24,
   "metadata": {
    "collapsed": true
   },
   "outputs": [],
   "source": [
    "def mutual_friends(id_user1, id_user2, m_fr):\n",
    "    max_f = get_max_friends(id_user1, id_user2)\n",
    "    if max_f <= 0:\n",
    "        return 0\n",
    "    else:\n",
    "        return m_fr / float(max_f)"
   ]
  },
  {
   "cell_type": "code",
   "execution_count": 25,
   "metadata": {
    "collapsed": true
   },
   "outputs": [],
   "source": [
    "def get_max_friends(us_id_1, us_id_2):\n",
    "    return max(api.get_friends_ids(int(us_id_1)), api.get_friends_ids(int(us_id_2)))"
   ]
  },
  {
   "cell_type": "code",
   "execution_count": 26,
   "metadata": {
    "collapsed": false
   },
   "outputs": [],
   "source": [
    "list_of_attr = ['sex', 'city', 'country', 'graduation', 'university', 'school']\n",
    "\n",
    "id_1 = os.listdir(r'D:\\test\\id1\\\\')\n",
    "id_2 = os.listdir(r'D:\\test\\id2\\\\')\n",
    "id_3 = os.listdir(r'D:\\test\\id3\\\\')\n",
    "id_4 = os.listdir(r'D:\\test\\id4\\\\')\n",
    "net = os.listdir(r'D:\\test\\networks\\\\')"
   ]
  },
  {
   "cell_type": "code",
   "execution_count": null,
   "metadata": {
    "collapsed": true
   },
   "outputs": [],
   "source": []
  }
 ],
 "metadata": {
  "kernelspec": {
   "display_name": "Python 2",
   "language": "python",
   "name": "python2"
  },
  "language_info": {
   "codemirror_mode": {
    "name": "ipython",
    "version": 2
   },
   "file_extension": ".py",
   "mimetype": "text/x-python",
   "name": "python",
   "nbconvert_exporter": "python",
   "pygments_lexer": "ipython2",
   "version": "2.7.11"
  }
 },
 "nbformat": 4,
 "nbformat_minor": 0
}
