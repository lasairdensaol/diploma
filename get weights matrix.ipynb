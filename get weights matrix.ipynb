{
 "cells": [
  {
   "cell_type": "code",
   "execution_count": null,
   "metadata": {
    "collapsed": true
   },
   "outputs": [],
   "source": [
    "import datetime as dt\n",
    "import json\n",
    "import codecs\n",
    "import os\n",
    "import numpy as np\n",
    "import random\n",
    "import numpy as np\n",
    "import pandas as pd\n",
    "from sklearn.externals import joblib"
   ]
  },
  {
   "cell_type": "code",
   "execution_count": null,
   "metadata": {
    "collapsed": true
   },
   "outputs": [],
   "source": []
  },
  {
   "cell_type": "code",
   "execution_count": null,
   "metadata": {
    "collapsed": true
   },
   "outputs": [],
   "source": [
    "id_1 = os.listdir(r'D:\\test\\id1\\\\')\n",
    "id_2 = os.listdir(r'D:\\test\\id2\\\\')\n",
    "id_3 = os.listdir(r'D:\\test\\id3\\\\')\n",
    "id_4 = os.listdir(r'D:\\test\\id4\\\\')\n",
    "net = os.listdir(r'D:\\test\\networks\\\\')"
   ]
  },
  {
   "cell_type": "code",
   "execution_count": null,
   "metadata": {
    "collapsed": true
   },
   "outputs": [],
   "source": [
    "def find_w(id_1, id_2, m_fr, n_method):\n",
    "    features = []\n",
    "    features.append(get_feature(id_1, id_2))\n",
    "    if n_method == 1:\n",
    "        w = log_regression.predict_proba(features)[1]\n",
    "    if n_method == 2:\n",
    "        w =  KNN.predict_proba(features)[1]\n",
    "    if n_method == 3:\n",
    "        w = RFC.predict_proba(features)[1]\n",
    "    \n",
    "    return w"
   ]
  }
 ],
 "metadata": {
  "kernelspec": {
   "display_name": "Python 2",
   "language": "python",
   "name": "python2"
  },
  "language_info": {
   "codemirror_mode": {
    "name": "ipython",
    "version": 2
   },
   "file_extension": ".py",
   "mimetype": "text/x-python",
   "name": "python",
   "nbconvert_exporter": "python",
   "pygments_lexer": "ipython2",
   "version": "2.7.11"
  }
 },
 "nbformat": 4,
 "nbformat_minor": 0
}
